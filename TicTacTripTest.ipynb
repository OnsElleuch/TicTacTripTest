{
 "cells": [
  {
   "cell_type": "code",
   "execution_count": 78,
   "source": [
    "import math\r\n",
    "from math import asin, cos, pi, sqrt\r\n",
    "\r\n",
    "import matplotlib.pyplot as plt\r\n",
    "import numpy as np\r\n",
    "import pandas as pd\r\n",
    "import sklearn\r\n",
    "from sklearn.metrics import mean_squared_error as mse\r\n",
    "from sklearn.model_selection import train_test_split\r\n",
    "from sklearn.tree import DecisionTreeRegressor\r\n"
   ],
   "outputs": [],
   "metadata": {
    "ExecuteTime": {
     "end_time": "2021-09-26T21:51:31.315792Z",
     "start_time": "2021-09-26T21:51:31.294793Z"
    },
    "id": "C8KdS24NVgAI"
   }
  },
  {
   "cell_type": "code",
   "execution_count": 2,
   "source": [
    "providers =  pd.read_csv(\"providers.csv\")\r\n",
    "stations = pd.read_csv('stations.csv')\r\n",
    "cities = pd.read_csv('cities.csv')\r\n",
    "tickets = pd.read_csv(\"ticket_data.csv\")"
   ],
   "outputs": [],
   "metadata": {
    "ExecuteTime": {
     "end_time": "2021-09-26T21:33:51.689047Z",
     "start_time": "2021-09-26T21:33:51.073057Z"
    },
    "id": "0hA0pTEfWTkk"
   }
  },
  {
   "cell_type": "markdown",
   "source": [
    "**Data Exploration** // **Exploration des données**"
   ],
   "metadata": {
    "id": "na4D5MzxX_rm"
   }
  },
  {
   "cell_type": "code",
   "execution_count": 3,
   "source": [
    "providers.head()"
   ],
   "outputs": [
    {
     "output_type": "execute_result",
     "data": {
      "text/html": [
       "<div>\n",
       "<style scoped>\n",
       "    .dataframe tbody tr th:only-of-type {\n",
       "        vertical-align: middle;\n",
       "    }\n",
       "\n",
       "    .dataframe tbody tr th {\n",
       "        vertical-align: top;\n",
       "    }\n",
       "\n",
       "    .dataframe thead th {\n",
       "        text-align: right;\n",
       "    }\n",
       "</style>\n",
       "<table border=\"1\" class=\"dataframe\">\n",
       "  <thead>\n",
       "    <tr style=\"text-align: right;\">\n",
       "      <th></th>\n",
       "      <th>id</th>\n",
       "      <th>company_id</th>\n",
       "      <th>provider_id</th>\n",
       "      <th>name</th>\n",
       "      <th>fullname</th>\n",
       "      <th>has_wifi</th>\n",
       "      <th>has_plug</th>\n",
       "      <th>has_adjustable_seats</th>\n",
       "      <th>has_bicycle</th>\n",
       "      <th>transport_type</th>\n",
       "    </tr>\n",
       "  </thead>\n",
       "  <tbody>\n",
       "    <tr>\n",
       "      <th>0</th>\n",
       "      <td>9</td>\n",
       "      <td>1</td>\n",
       "      <td>NaN</td>\n",
       "      <td>ouibus</td>\n",
       "      <td>Ouibus</td>\n",
       "      <td>True</td>\n",
       "      <td>True</td>\n",
       "      <td>True</td>\n",
       "      <td>False</td>\n",
       "      <td>bus</td>\n",
       "    </tr>\n",
       "    <tr>\n",
       "      <th>1</th>\n",
       "      <td>10</td>\n",
       "      <td>2</td>\n",
       "      <td>NaN</td>\n",
       "      <td>deinbus</td>\n",
       "      <td>Deinbus.de</td>\n",
       "      <td>False</td>\n",
       "      <td>False</td>\n",
       "      <td>False</td>\n",
       "      <td>False</td>\n",
       "      <td>bus</td>\n",
       "    </tr>\n",
       "    <tr>\n",
       "      <th>2</th>\n",
       "      <td>11</td>\n",
       "      <td>3</td>\n",
       "      <td>NaN</td>\n",
       "      <td>infobus</td>\n",
       "      <td>Infobus</td>\n",
       "      <td>False</td>\n",
       "      <td>False</td>\n",
       "      <td>False</td>\n",
       "      <td>False</td>\n",
       "      <td>bus</td>\n",
       "    </tr>\n",
       "    <tr>\n",
       "      <th>3</th>\n",
       "      <td>12</td>\n",
       "      <td>4</td>\n",
       "      <td>NaN</td>\n",
       "      <td>studentAgency</td>\n",
       "      <td>Student Agency</td>\n",
       "      <td>False</td>\n",
       "      <td>False</td>\n",
       "      <td>False</td>\n",
       "      <td>False</td>\n",
       "      <td>bus</td>\n",
       "    </tr>\n",
       "    <tr>\n",
       "      <th>4</th>\n",
       "      <td>13</td>\n",
       "      <td>5</td>\n",
       "      <td>NaN</td>\n",
       "      <td>flixbus</td>\n",
       "      <td>Flixbus</td>\n",
       "      <td>True</td>\n",
       "      <td>False</td>\n",
       "      <td>False</td>\n",
       "      <td>False</td>\n",
       "      <td>bus</td>\n",
       "    </tr>\n",
       "  </tbody>\n",
       "</table>\n",
       "</div>"
      ],
      "text/plain": [
       "   id  company_id provider_id           name        fullname has_wifi  \\\n",
       "0   9           1         NaN         ouibus          Ouibus     True   \n",
       "1  10           2         NaN        deinbus      Deinbus.de    False   \n",
       "2  11           3         NaN        infobus         Infobus    False   \n",
       "3  12           4         NaN  studentAgency  Student Agency    False   \n",
       "4  13           5         NaN        flixbus         Flixbus     True   \n",
       "\n",
       "  has_plug has_adjustable_seats has_bicycle transport_type  \n",
       "0     True                 True       False            bus  \n",
       "1    False                False       False            bus  \n",
       "2    False                False       False            bus  \n",
       "3    False                False       False            bus  \n",
       "4    False                False       False            bus  "
      ]
     },
     "metadata": {},
     "execution_count": 3
    }
   ],
   "metadata": {
    "ExecuteTime": {
     "end_time": "2021-09-26T21:33:51.846049Z",
     "start_time": "2021-09-26T21:33:51.692050Z"
    },
    "colab": {
     "base_uri": "https://localhost:8080/",
     "height": 206
    },
    "id": "9tjRXTtXYH9f",
    "outputId": "66218fed-4a18-4a97-879c-a2ae3b3839ec"
   }
  },
  {
   "cell_type": "code",
   "execution_count": 4,
   "source": [
    "providers.info()"
   ],
   "outputs": [
    {
     "output_type": "stream",
     "name": "stdout",
     "text": [
      "<class 'pandas.core.frame.DataFrame'>\n",
      "RangeIndex: 227 entries, 0 to 226\n",
      "Data columns (total 10 columns):\n",
      " #   Column                Non-Null Count  Dtype \n",
      "---  ------                --------------  ----- \n",
      " 0   id                    227 non-null    int64 \n",
      " 1   company_id            227 non-null    int64 \n",
      " 2   provider_id           213 non-null    object\n",
      " 3   name                  227 non-null    object\n",
      " 4   fullname              227 non-null    object\n",
      " 5   has_wifi              224 non-null    object\n",
      " 6   has_plug              224 non-null    object\n",
      " 7   has_adjustable_seats  224 non-null    object\n",
      " 8   has_bicycle           224 non-null    object\n",
      " 9   transport_type        227 non-null    object\n",
      "dtypes: int64(2), object(8)\n",
      "memory usage: 17.9+ KB\n"
     ]
    }
   ],
   "metadata": {
    "ExecuteTime": {
     "end_time": "2021-09-26T21:33:51.989058Z",
     "start_time": "2021-09-26T21:33:51.850053Z"
    },
    "colab": {
     "base_uri": "https://localhost:8080/"
    },
    "id": "H3JNVRqFYU7D",
    "outputId": "bc8174a0-67ab-4791-96e8-7978c412e784"
   }
  },
  {
   "cell_type": "code",
   "execution_count": 5,
   "source": [
    "providers.describe()"
   ],
   "outputs": [
    {
     "output_type": "execute_result",
     "data": {
      "text/html": [
       "<div>\n",
       "<style scoped>\n",
       "    .dataframe tbody tr th:only-of-type {\n",
       "        vertical-align: middle;\n",
       "    }\n",
       "\n",
       "    .dataframe tbody tr th {\n",
       "        vertical-align: top;\n",
       "    }\n",
       "\n",
       "    .dataframe thead th {\n",
       "        text-align: right;\n",
       "    }\n",
       "</style>\n",
       "<table border=\"1\" class=\"dataframe\">\n",
       "  <thead>\n",
       "    <tr style=\"text-align: right;\">\n",
       "      <th></th>\n",
       "      <th>id</th>\n",
       "      <th>company_id</th>\n",
       "    </tr>\n",
       "  </thead>\n",
       "  <tbody>\n",
       "    <tr>\n",
       "      <th>count</th>\n",
       "      <td>227.000000</td>\n",
       "      <td>227.000000</td>\n",
       "    </tr>\n",
       "    <tr>\n",
       "      <th>mean</th>\n",
       "      <td>790.656388</td>\n",
       "      <td>9.343612</td>\n",
       "    </tr>\n",
       "    <tr>\n",
       "      <th>std</th>\n",
       "      <td>2251.823950</td>\n",
       "      <td>3.036065</td>\n",
       "    </tr>\n",
       "    <tr>\n",
       "      <th>min</th>\n",
       "      <td>9.000000</td>\n",
       "      <td>1.000000</td>\n",
       "    </tr>\n",
       "    <tr>\n",
       "      <th>25%</th>\n",
       "      <td>66.500000</td>\n",
       "      <td>9.000000</td>\n",
       "    </tr>\n",
       "    <tr>\n",
       "      <th>50%</th>\n",
       "      <td>127.000000</td>\n",
       "      <td>9.000000</td>\n",
       "    </tr>\n",
       "    <tr>\n",
       "      <th>75%</th>\n",
       "      <td>183.500000</td>\n",
       "      <td>9.000000</td>\n",
       "    </tr>\n",
       "    <tr>\n",
       "      <th>max</th>\n",
       "      <td>8389.000000</td>\n",
       "      <td>40.000000</td>\n",
       "    </tr>\n",
       "  </tbody>\n",
       "</table>\n",
       "</div>"
      ],
      "text/plain": [
       "                id  company_id\n",
       "count   227.000000  227.000000\n",
       "mean    790.656388    9.343612\n",
       "std    2251.823950    3.036065\n",
       "min       9.000000    1.000000\n",
       "25%      66.500000    9.000000\n",
       "50%     127.000000    9.000000\n",
       "75%     183.500000    9.000000\n",
       "max    8389.000000   40.000000"
      ]
     },
     "metadata": {},
     "execution_count": 5
    }
   ],
   "metadata": {
    "ExecuteTime": {
     "end_time": "2021-09-26T21:33:52.305052Z",
     "start_time": "2021-09-26T21:33:51.993054Z"
    },
    "colab": {
     "base_uri": "https://localhost:8080/",
     "height": 300
    },
    "id": "oO6I8msXetK3",
    "outputId": "493e6bb6-3f80-4f9b-9ddd-c45ee30726f8"
   }
  },
  {
   "cell_type": "code",
   "execution_count": 6,
   "source": [
    "tickets.head()"
   ],
   "outputs": [
    {
     "output_type": "execute_result",
     "data": {
      "text/html": [
       "<div>\n",
       "<style scoped>\n",
       "    .dataframe tbody tr th:only-of-type {\n",
       "        vertical-align: middle;\n",
       "    }\n",
       "\n",
       "    .dataframe tbody tr th {\n",
       "        vertical-align: top;\n",
       "    }\n",
       "\n",
       "    .dataframe thead th {\n",
       "        text-align: right;\n",
       "    }\n",
       "</style>\n",
       "<table border=\"1\" class=\"dataframe\">\n",
       "  <thead>\n",
       "    <tr style=\"text-align: right;\">\n",
       "      <th></th>\n",
       "      <th>id</th>\n",
       "      <th>company</th>\n",
       "      <th>o_station</th>\n",
       "      <th>d_station</th>\n",
       "      <th>departure_ts</th>\n",
       "      <th>arrival_ts</th>\n",
       "      <th>price_in_cents</th>\n",
       "      <th>search_ts</th>\n",
       "      <th>middle_stations</th>\n",
       "      <th>other_companies</th>\n",
       "      <th>o_city</th>\n",
       "      <th>d_city</th>\n",
       "    </tr>\n",
       "  </thead>\n",
       "  <tbody>\n",
       "    <tr>\n",
       "      <th>0</th>\n",
       "      <td>6795025</td>\n",
       "      <td>8385</td>\n",
       "      <td>NaN</td>\n",
       "      <td>NaN</td>\n",
       "      <td>2017-10-13 14:00:00+00</td>\n",
       "      <td>2017-10-13 20:10:00+00</td>\n",
       "      <td>4550</td>\n",
       "      <td>2017-10-01 00:13:31.327+00</td>\n",
       "      <td>NaN</td>\n",
       "      <td>NaN</td>\n",
       "      <td>611</td>\n",
       "      <td>542</td>\n",
       "    </tr>\n",
       "    <tr>\n",
       "      <th>1</th>\n",
       "      <td>6795026</td>\n",
       "      <td>9</td>\n",
       "      <td>63.0</td>\n",
       "      <td>1044.0</td>\n",
       "      <td>2017-10-13 13:05:00+00</td>\n",
       "      <td>2017-10-14 06:55:00+00</td>\n",
       "      <td>1450</td>\n",
       "      <td>2017-10-01 00:13:35.773+00</td>\n",
       "      <td>{149,418}</td>\n",
       "      <td>{13}</td>\n",
       "      <td>611</td>\n",
       "      <td>542</td>\n",
       "    </tr>\n",
       "    <tr>\n",
       "      <th>2</th>\n",
       "      <td>6795027</td>\n",
       "      <td>8377</td>\n",
       "      <td>5905.0</td>\n",
       "      <td>6495.0</td>\n",
       "      <td>2017-10-13 13:27:00+00</td>\n",
       "      <td>2017-10-14 21:24:00+00</td>\n",
       "      <td>7400</td>\n",
       "      <td>2017-10-01 00:13:40.212+00</td>\n",
       "      <td>{798,798,6794,6246}</td>\n",
       "      <td>{8377,8376}</td>\n",
       "      <td>611</td>\n",
       "      <td>542</td>\n",
       "    </tr>\n",
       "    <tr>\n",
       "      <th>3</th>\n",
       "      <td>6795028</td>\n",
       "      <td>8377</td>\n",
       "      <td>5905.0</td>\n",
       "      <td>6495.0</td>\n",
       "      <td>2017-10-13 13:27:00+00</td>\n",
       "      <td>2017-10-14 11:02:00+00</td>\n",
       "      <td>13500</td>\n",
       "      <td>2017-10-01 00:13:40.213+00</td>\n",
       "      <td>{798,798,6794,6246}</td>\n",
       "      <td>{8377,8376}</td>\n",
       "      <td>611</td>\n",
       "      <td>542</td>\n",
       "    </tr>\n",
       "    <tr>\n",
       "      <th>4</th>\n",
       "      <td>6795029</td>\n",
       "      <td>8381</td>\n",
       "      <td>5905.0</td>\n",
       "      <td>6495.0</td>\n",
       "      <td>2017-10-13 21:46:00+00</td>\n",
       "      <td>2017-10-14 19:32:00+00</td>\n",
       "      <td>7710</td>\n",
       "      <td>2017-10-01 00:13:40.213+00</td>\n",
       "      <td>{5983,5983}</td>\n",
       "      <td>{8380}</td>\n",
       "      <td>611</td>\n",
       "      <td>542</td>\n",
       "    </tr>\n",
       "  </tbody>\n",
       "</table>\n",
       "</div>"
      ],
      "text/plain": [
       "        id  company  o_station  d_station            departure_ts  \\\n",
       "0  6795025     8385        NaN        NaN  2017-10-13 14:00:00+00   \n",
       "1  6795026        9       63.0     1044.0  2017-10-13 13:05:00+00   \n",
       "2  6795027     8377     5905.0     6495.0  2017-10-13 13:27:00+00   \n",
       "3  6795028     8377     5905.0     6495.0  2017-10-13 13:27:00+00   \n",
       "4  6795029     8381     5905.0     6495.0  2017-10-13 21:46:00+00   \n",
       "\n",
       "               arrival_ts  price_in_cents                   search_ts  \\\n",
       "0  2017-10-13 20:10:00+00            4550  2017-10-01 00:13:31.327+00   \n",
       "1  2017-10-14 06:55:00+00            1450  2017-10-01 00:13:35.773+00   \n",
       "2  2017-10-14 21:24:00+00            7400  2017-10-01 00:13:40.212+00   \n",
       "3  2017-10-14 11:02:00+00           13500  2017-10-01 00:13:40.213+00   \n",
       "4  2017-10-14 19:32:00+00            7710  2017-10-01 00:13:40.213+00   \n",
       "\n",
       "       middle_stations other_companies  o_city  d_city  \n",
       "0                  NaN             NaN     611     542  \n",
       "1            {149,418}            {13}     611     542  \n",
       "2  {798,798,6794,6246}     {8377,8376}     611     542  \n",
       "3  {798,798,6794,6246}     {8377,8376}     611     542  \n",
       "4          {5983,5983}          {8380}     611     542  "
      ]
     },
     "metadata": {},
     "execution_count": 6
    }
   ],
   "metadata": {
    "ExecuteTime": {
     "end_time": "2021-09-26T21:33:52.495049Z",
     "start_time": "2021-09-26T21:33:52.309051Z"
    },
    "colab": {
     "base_uri": "https://localhost:8080/",
     "height": 313
    },
    "id": "GPcbxtWxYjy-",
    "outputId": "fa1c0b4e-c112-4255-b58a-a0fef0ebdba5"
   }
  },
  {
   "cell_type": "code",
   "execution_count": 7,
   "source": [
    "tickets.info()"
   ],
   "outputs": [
    {
     "output_type": "stream",
     "name": "stdout",
     "text": [
      "<class 'pandas.core.frame.DataFrame'>\n",
      "RangeIndex: 74168 entries, 0 to 74167\n",
      "Data columns (total 12 columns):\n",
      " #   Column           Non-Null Count  Dtype  \n",
      "---  ------           --------------  -----  \n",
      " 0   id               74168 non-null  int64  \n",
      " 1   company          74168 non-null  int64  \n",
      " 2   o_station        32727 non-null  float64\n",
      " 3   d_station        32727 non-null  float64\n",
      " 4   departure_ts     74168 non-null  object \n",
      " 5   arrival_ts       74168 non-null  object \n",
      " 6   price_in_cents   74168 non-null  int64  \n",
      " 7   search_ts        74168 non-null  object \n",
      " 8   middle_stations  32727 non-null  object \n",
      " 9   other_companies  32727 non-null  object \n",
      " 10  o_city           74168 non-null  int64  \n",
      " 11  d_city           74168 non-null  int64  \n",
      "dtypes: float64(2), int64(5), object(5)\n",
      "memory usage: 6.8+ MB\n"
     ]
    }
   ],
   "metadata": {
    "ExecuteTime": {
     "end_time": "2021-09-26T21:33:52.729049Z",
     "start_time": "2021-09-26T21:33:52.499052Z"
    },
    "colab": {
     "base_uri": "https://localhost:8080/"
    },
    "id": "YHKr_lgse0kl",
    "outputId": "3861354e-590e-45bb-d131-6945d258fdde"
   }
  },
  {
   "cell_type": "code",
   "execution_count": 8,
   "source": [
    "tickets.describe()"
   ],
   "outputs": [
    {
     "output_type": "execute_result",
     "data": {
      "text/html": [
       "<div>\n",
       "<style scoped>\n",
       "    .dataframe tbody tr th:only-of-type {\n",
       "        vertical-align: middle;\n",
       "    }\n",
       "\n",
       "    .dataframe tbody tr th {\n",
       "        vertical-align: top;\n",
       "    }\n",
       "\n",
       "    .dataframe thead th {\n",
       "        text-align: right;\n",
       "    }\n",
       "</style>\n",
       "<table border=\"1\" class=\"dataframe\">\n",
       "  <thead>\n",
       "    <tr style=\"text-align: right;\">\n",
       "      <th></th>\n",
       "      <th>id</th>\n",
       "      <th>company</th>\n",
       "      <th>o_station</th>\n",
       "      <th>d_station</th>\n",
       "      <th>price_in_cents</th>\n",
       "      <th>o_city</th>\n",
       "      <th>d_city</th>\n",
       "    </tr>\n",
       "  </thead>\n",
       "  <tbody>\n",
       "    <tr>\n",
       "      <th>count</th>\n",
       "      <td>7.416800e+04</td>\n",
       "      <td>74168.000000</td>\n",
       "      <td>32727.000000</td>\n",
       "      <td>32727.000000</td>\n",
       "      <td>74168.000000</td>\n",
       "      <td>74168.000000</td>\n",
       "      <td>74168.000000</td>\n",
       "    </tr>\n",
       "    <tr>\n",
       "      <th>mean</th>\n",
       "      <td>6.832108e+06</td>\n",
       "      <td>7109.565527</td>\n",
       "      <td>2907.132673</td>\n",
       "      <td>2347.858129</td>\n",
       "      <td>4382.711061</td>\n",
       "      <td>849.186105</td>\n",
       "      <td>883.776265</td>\n",
       "    </tr>\n",
       "    <tr>\n",
       "      <th>std</th>\n",
       "      <td>2.141060e+04</td>\n",
       "      <td>3005.380792</td>\n",
       "      <td>3347.629180</td>\n",
       "      <td>3090.798007</td>\n",
       "      <td>3739.325367</td>\n",
       "      <td>1485.791782</td>\n",
       "      <td>1654.698575</td>\n",
       "    </tr>\n",
       "    <tr>\n",
       "      <th>min</th>\n",
       "      <td>6.795025e+06</td>\n",
       "      <td>9.000000</td>\n",
       "      <td>3.000000</td>\n",
       "      <td>3.000000</td>\n",
       "      <td>300.000000</td>\n",
       "      <td>5.000000</td>\n",
       "      <td>1.000000</td>\n",
       "    </tr>\n",
       "    <tr>\n",
       "      <th>25%</th>\n",
       "      <td>6.813567e+06</td>\n",
       "      <td>8376.000000</td>\n",
       "      <td>400.000000</td>\n",
       "      <td>396.000000</td>\n",
       "      <td>1900.000000</td>\n",
       "      <td>485.000000</td>\n",
       "      <td>453.000000</td>\n",
       "    </tr>\n",
       "    <tr>\n",
       "      <th>50%</th>\n",
       "      <td>6.832108e+06</td>\n",
       "      <td>8385.000000</td>\n",
       "      <td>701.000000</td>\n",
       "      <td>575.000000</td>\n",
       "      <td>3350.000000</td>\n",
       "      <td>628.000000</td>\n",
       "      <td>562.000000</td>\n",
       "    </tr>\n",
       "    <tr>\n",
       "      <th>75%</th>\n",
       "      <td>6.850650e+06</td>\n",
       "      <td>8385.000000</td>\n",
       "      <td>6246.000000</td>\n",
       "      <td>4538.000000</td>\n",
       "      <td>5250.000000</td>\n",
       "      <td>628.000000</td>\n",
       "      <td>628.000000</td>\n",
       "    </tr>\n",
       "    <tr>\n",
       "      <th>max</th>\n",
       "      <td>6.869192e+06</td>\n",
       "      <td>8387.000000</td>\n",
       "      <td>11017.000000</td>\n",
       "      <td>11017.000000</td>\n",
       "      <td>38550.000000</td>\n",
       "      <td>12190.000000</td>\n",
       "      <td>12190.000000</td>\n",
       "    </tr>\n",
       "  </tbody>\n",
       "</table>\n",
       "</div>"
      ],
      "text/plain": [
       "                 id       company     o_station     d_station  price_in_cents  \\\n",
       "count  7.416800e+04  74168.000000  32727.000000  32727.000000    74168.000000   \n",
       "mean   6.832108e+06   7109.565527   2907.132673   2347.858129     4382.711061   \n",
       "std    2.141060e+04   3005.380792   3347.629180   3090.798007     3739.325367   \n",
       "min    6.795025e+06      9.000000      3.000000      3.000000      300.000000   \n",
       "25%    6.813567e+06   8376.000000    400.000000    396.000000     1900.000000   \n",
       "50%    6.832108e+06   8385.000000    701.000000    575.000000     3350.000000   \n",
       "75%    6.850650e+06   8385.000000   6246.000000   4538.000000     5250.000000   \n",
       "max    6.869192e+06   8387.000000  11017.000000  11017.000000    38550.000000   \n",
       "\n",
       "             o_city        d_city  \n",
       "count  74168.000000  74168.000000  \n",
       "mean     849.186105    883.776265  \n",
       "std     1485.791782   1654.698575  \n",
       "min        5.000000      1.000000  \n",
       "25%      485.000000    453.000000  \n",
       "50%      628.000000    562.000000  \n",
       "75%      628.000000    628.000000  \n",
       "max    12190.000000  12190.000000  "
      ]
     },
     "metadata": {},
     "execution_count": 8
    }
   ],
   "metadata": {
    "ExecuteTime": {
     "end_time": "2021-09-26T21:33:52.951049Z",
     "start_time": "2021-09-26T21:33:52.731051Z"
    },
    "colab": {
     "base_uri": "https://localhost:8080/",
     "height": 300
    },
    "id": "BtqUOWTTe3Hv",
    "outputId": "ee7e2784-deff-45f0-ec16-790ac022b9c9"
   }
  },
  {
   "cell_type": "code",
   "execution_count": 9,
   "source": [
    "cities.head()"
   ],
   "outputs": [
    {
     "output_type": "execute_result",
     "data": {
      "text/html": [
       "<div>\n",
       "<style scoped>\n",
       "    .dataframe tbody tr th:only-of-type {\n",
       "        vertical-align: middle;\n",
       "    }\n",
       "\n",
       "    .dataframe tbody tr th {\n",
       "        vertical-align: top;\n",
       "    }\n",
       "\n",
       "    .dataframe thead th {\n",
       "        text-align: right;\n",
       "    }\n",
       "</style>\n",
       "<table border=\"1\" class=\"dataframe\">\n",
       "  <thead>\n",
       "    <tr style=\"text-align: right;\">\n",
       "      <th></th>\n",
       "      <th>id</th>\n",
       "      <th>local_name</th>\n",
       "      <th>unique_name</th>\n",
       "      <th>latitude</th>\n",
       "      <th>longitude</th>\n",
       "      <th>population</th>\n",
       "    </tr>\n",
       "  </thead>\n",
       "  <tbody>\n",
       "    <tr>\n",
       "      <th>0</th>\n",
       "      <td>5159</td>\n",
       "      <td>Padua, Veneto, Italia</td>\n",
       "      <td>padua</td>\n",
       "      <td>45.406435</td>\n",
       "      <td>11.876761</td>\n",
       "      <td>209678.0</td>\n",
       "    </tr>\n",
       "    <tr>\n",
       "      <th>1</th>\n",
       "      <td>76</td>\n",
       "      <td>Barcelona, Cataluña, España</td>\n",
       "      <td>barcelona</td>\n",
       "      <td>41.385064</td>\n",
       "      <td>2.173404</td>\n",
       "      <td>1611822.0</td>\n",
       "    </tr>\n",
       "    <tr>\n",
       "      <th>2</th>\n",
       "      <td>81</td>\n",
       "      <td>Basel, Basel-Stadt, Schweiz</td>\n",
       "      <td>basel</td>\n",
       "      <td>47.593437</td>\n",
       "      <td>7.619812</td>\n",
       "      <td>NaN</td>\n",
       "    </tr>\n",
       "    <tr>\n",
       "      <th>3</th>\n",
       "      <td>259</td>\n",
       "      <td>Erlangen, Bayern, Deutschland</td>\n",
       "      <td>erlangen</td>\n",
       "      <td>49.589674</td>\n",
       "      <td>11.011961</td>\n",
       "      <td>105412.0</td>\n",
       "    </tr>\n",
       "    <tr>\n",
       "      <th>4</th>\n",
       "      <td>11979</td>\n",
       "      <td>Balș, Olt, România</td>\n",
       "      <td>balș</td>\n",
       "      <td>44.353354</td>\n",
       "      <td>24.095672</td>\n",
       "      <td>NaN</td>\n",
       "    </tr>\n",
       "  </tbody>\n",
       "</table>\n",
       "</div>"
      ],
      "text/plain": [
       "      id                     local_name unique_name   latitude  longitude  \\\n",
       "0   5159          Padua, Veneto, Italia       padua  45.406435  11.876761   \n",
       "1     76    Barcelona, Cataluña, España   barcelona  41.385064   2.173404   \n",
       "2     81    Basel, Basel-Stadt, Schweiz       basel  47.593437   7.619812   \n",
       "3    259  Erlangen, Bayern, Deutschland    erlangen  49.589674  11.011961   \n",
       "4  11979             Balș, Olt, România        balș  44.353354  24.095672   \n",
       "\n",
       "   population  \n",
       "0    209678.0  \n",
       "1   1611822.0  \n",
       "2         NaN  \n",
       "3    105412.0  \n",
       "4         NaN  "
      ]
     },
     "metadata": {},
     "execution_count": 9
    }
   ],
   "metadata": {
    "ExecuteTime": {
     "end_time": "2021-09-26T21:33:54.340050Z",
     "start_time": "2021-09-26T21:33:52.956053Z"
    },
    "colab": {
     "base_uri": "https://localhost:8080/",
     "height": 206
    },
    "id": "SvWeB8nIZRzu",
    "outputId": "5bd0329e-bbab-4062-b9ef-193f6674f53b"
   }
  },
  {
   "cell_type": "code",
   "execution_count": 10,
   "source": [
    "cities.info()"
   ],
   "outputs": [
    {
     "output_type": "stream",
     "name": "stdout",
     "text": [
      "<class 'pandas.core.frame.DataFrame'>\n",
      "RangeIndex: 8040 entries, 0 to 8039\n",
      "Data columns (total 6 columns):\n",
      " #   Column       Non-Null Count  Dtype  \n",
      "---  ------       --------------  -----  \n",
      " 0   id           8040 non-null   int64  \n",
      " 1   local_name   8040 non-null   object \n",
      " 2   unique_name  8039 non-null   object \n",
      " 3   latitude     8040 non-null   float64\n",
      " 4   longitude    8040 non-null   float64\n",
      " 5   population   369 non-null    float64\n",
      "dtypes: float64(3), int64(1), object(2)\n",
      "memory usage: 377.0+ KB\n"
     ]
    }
   ],
   "metadata": {
    "ExecuteTime": {
     "end_time": "2021-09-26T21:33:54.543048Z",
     "start_time": "2021-09-26T21:33:54.343052Z"
    },
    "colab": {
     "base_uri": "https://localhost:8080/"
    },
    "id": "JSa2Cy3ObTCd",
    "outputId": "0d961dc1-fa82-4ac9-cb10-2c5dee0ce1f7"
   }
  },
  {
   "cell_type": "code",
   "execution_count": 11,
   "source": [
    "cities.describe()"
   ],
   "outputs": [
    {
     "output_type": "execute_result",
     "data": {
      "text/html": [
       "<div>\n",
       "<style scoped>\n",
       "    .dataframe tbody tr th:only-of-type {\n",
       "        vertical-align: middle;\n",
       "    }\n",
       "\n",
       "    .dataframe tbody tr th {\n",
       "        vertical-align: top;\n",
       "    }\n",
       "\n",
       "    .dataframe thead th {\n",
       "        text-align: right;\n",
       "    }\n",
       "</style>\n",
       "<table border=\"1\" class=\"dataframe\">\n",
       "  <thead>\n",
       "    <tr style=\"text-align: right;\">\n",
       "      <th></th>\n",
       "      <th>id</th>\n",
       "      <th>latitude</th>\n",
       "      <th>longitude</th>\n",
       "      <th>population</th>\n",
       "    </tr>\n",
       "  </thead>\n",
       "  <tbody>\n",
       "    <tr>\n",
       "      <th>count</th>\n",
       "      <td>8040.000000</td>\n",
       "      <td>8040.000000</td>\n",
       "      <td>8040.000000</td>\n",
       "      <td>3.690000e+02</td>\n",
       "    </tr>\n",
       "    <tr>\n",
       "      <th>mean</th>\n",
       "      <td>6328.786816</td>\n",
       "      <td>47.223456</td>\n",
       "      <td>6.299331</td>\n",
       "      <td>3.360184e+05</td>\n",
       "    </tr>\n",
       "    <tr>\n",
       "      <th>std</th>\n",
       "      <td>3504.698537</td>\n",
       "      <td>3.700934</td>\n",
       "      <td>7.747070</td>\n",
       "      <td>5.840409e+05</td>\n",
       "    </tr>\n",
       "    <tr>\n",
       "      <th>min</th>\n",
       "      <td>1.000000</td>\n",
       "      <td>1.370676</td>\n",
       "      <td>-101.397388</td>\n",
       "      <td>1.000460e+05</td>\n",
       "    </tr>\n",
       "    <tr>\n",
       "      <th>25%</th>\n",
       "      <td>2501.500000</td>\n",
       "      <td>44.662402</td>\n",
       "      <td>1.214282</td>\n",
       "      <td>1.253750e+05</td>\n",
       "    </tr>\n",
       "    <tr>\n",
       "      <th>50%</th>\n",
       "      <td>7003.500000</td>\n",
       "      <td>47.304750</td>\n",
       "      <td>4.887856</td>\n",
       "      <td>1.803020e+05</td>\n",
       "    </tr>\n",
       "    <tr>\n",
       "      <th>75%</th>\n",
       "      <td>9014.250000</td>\n",
       "      <td>49.611998</td>\n",
       "      <td>10.311597</td>\n",
       "      <td>3.098690e+05</td>\n",
       "    </tr>\n",
       "    <tr>\n",
       "      <th>max</th>\n",
       "      <td>12192.000000</td>\n",
       "      <td>64.145981</td>\n",
       "      <td>48.731938</td>\n",
       "      <td>8.416535e+06</td>\n",
       "    </tr>\n",
       "  </tbody>\n",
       "</table>\n",
       "</div>"
      ],
      "text/plain": [
       "                 id     latitude    longitude    population\n",
       "count   8040.000000  8040.000000  8040.000000  3.690000e+02\n",
       "mean    6328.786816    47.223456     6.299331  3.360184e+05\n",
       "std     3504.698537     3.700934     7.747070  5.840409e+05\n",
       "min        1.000000     1.370676  -101.397388  1.000460e+05\n",
       "25%     2501.500000    44.662402     1.214282  1.253750e+05\n",
       "50%     7003.500000    47.304750     4.887856  1.803020e+05\n",
       "75%     9014.250000    49.611998    10.311597  3.098690e+05\n",
       "max    12192.000000    64.145981    48.731938  8.416535e+06"
      ]
     },
     "metadata": {},
     "execution_count": 11
    }
   ],
   "metadata": {
    "ExecuteTime": {
     "end_time": "2021-09-26T21:33:54.715048Z",
     "start_time": "2021-09-26T21:33:54.546050Z"
    },
    "colab": {
     "base_uri": "https://localhost:8080/",
     "height": 300
    },
    "id": "THGChsYKexOJ",
    "outputId": "6f1fdf7c-c479-4762-f784-be150543484f"
   }
  },
  {
   "cell_type": "code",
   "execution_count": 12,
   "source": [
    "stations.head()"
   ],
   "outputs": [
    {
     "output_type": "execute_result",
     "data": {
      "text/html": [
       "<div>\n",
       "<style scoped>\n",
       "    .dataframe tbody tr th:only-of-type {\n",
       "        vertical-align: middle;\n",
       "    }\n",
       "\n",
       "    .dataframe tbody tr th {\n",
       "        vertical-align: top;\n",
       "    }\n",
       "\n",
       "    .dataframe thead th {\n",
       "        text-align: right;\n",
       "    }\n",
       "</style>\n",
       "<table border=\"1\" class=\"dataframe\">\n",
       "  <thead>\n",
       "    <tr style=\"text-align: right;\">\n",
       "      <th></th>\n",
       "      <th>id</th>\n",
       "      <th>unique_name</th>\n",
       "      <th>latitude</th>\n",
       "      <th>longitude</th>\n",
       "    </tr>\n",
       "  </thead>\n",
       "  <tbody>\n",
       "    <tr>\n",
       "      <th>0</th>\n",
       "      <td>1</td>\n",
       "      <td>Aalen (Stuttgarter Straße)</td>\n",
       "      <td>48.835296</td>\n",
       "      <td>10.092956</td>\n",
       "    </tr>\n",
       "    <tr>\n",
       "      <th>1</th>\n",
       "      <td>2</td>\n",
       "      <td>Aéroport Bordeaux-Mérignac</td>\n",
       "      <td>44.830226</td>\n",
       "      <td>-0.700883</td>\n",
       "    </tr>\n",
       "    <tr>\n",
       "      <th>2</th>\n",
       "      <td>3</td>\n",
       "      <td>Aéroport CDG</td>\n",
       "      <td>49.009900</td>\n",
       "      <td>2.559310</td>\n",
       "    </tr>\n",
       "    <tr>\n",
       "      <th>3</th>\n",
       "      <td>4</td>\n",
       "      <td>Aéroport de Berlin-Schönefeld</td>\n",
       "      <td>52.389446</td>\n",
       "      <td>13.520345</td>\n",
       "    </tr>\n",
       "    <tr>\n",
       "      <th>4</th>\n",
       "      <td>5</td>\n",
       "      <td>Aéroport de Dresden</td>\n",
       "      <td>51.123604</td>\n",
       "      <td>13.764737</td>\n",
       "    </tr>\n",
       "  </tbody>\n",
       "</table>\n",
       "</div>"
      ],
      "text/plain": [
       "   id                     unique_name   latitude  longitude\n",
       "0   1      Aalen (Stuttgarter Straße)  48.835296  10.092956\n",
       "1   2      Aéroport Bordeaux-Mérignac  44.830226  -0.700883\n",
       "2   3                   Aéroport CDG   49.009900   2.559310\n",
       "3   4  Aéroport de Berlin-Schönefeld   52.389446  13.520345\n",
       "4   5             Aéroport de Dresden  51.123604  13.764737"
      ]
     },
     "metadata": {},
     "execution_count": 12
    }
   ],
   "metadata": {
    "ExecuteTime": {
     "end_time": "2021-09-26T21:33:54.887050Z",
     "start_time": "2021-09-26T21:33:54.717054Z"
    },
    "colab": {
     "base_uri": "https://localhost:8080/",
     "height": 206
    },
    "id": "GQmA6053bU3a",
    "outputId": "b2a9487e-f3d8-4097-c068-1439ba9fceca"
   }
  },
  {
   "cell_type": "code",
   "execution_count": 13,
   "source": [
    "stations.info()"
   ],
   "outputs": [
    {
     "output_type": "stream",
     "name": "stdout",
     "text": [
      "<class 'pandas.core.frame.DataFrame'>\n",
      "RangeIndex: 11035 entries, 0 to 11034\n",
      "Data columns (total 4 columns):\n",
      " #   Column       Non-Null Count  Dtype  \n",
      "---  ------       --------------  -----  \n",
      " 0   id           11035 non-null  int64  \n",
      " 1   unique_name  11035 non-null  object \n",
      " 2   latitude     11035 non-null  float64\n",
      " 3   longitude    11035 non-null  float64\n",
      "dtypes: float64(2), int64(1), object(1)\n",
      "memory usage: 345.0+ KB\n"
     ]
    }
   ],
   "metadata": {
    "ExecuteTime": {
     "end_time": "2021-09-26T21:33:55.045047Z",
     "start_time": "2021-09-26T21:33:54.894051Z"
    },
    "colab": {
     "base_uri": "https://localhost:8080/"
    },
    "id": "VqjlKEcnb6Oz",
    "outputId": "3bd501eb-a38d-4f78-ddf3-a201b0f3bb3e"
   }
  },
  {
   "cell_type": "code",
   "execution_count": 14,
   "source": [
    "stations.describe()"
   ],
   "outputs": [
    {
     "output_type": "execute_result",
     "data": {
      "text/html": [
       "<div>\n",
       "<style scoped>\n",
       "    .dataframe tbody tr th:only-of-type {\n",
       "        vertical-align: middle;\n",
       "    }\n",
       "\n",
       "    .dataframe tbody tr th {\n",
       "        vertical-align: top;\n",
       "    }\n",
       "\n",
       "    .dataframe thead th {\n",
       "        text-align: right;\n",
       "    }\n",
       "</style>\n",
       "<table border=\"1\" class=\"dataframe\">\n",
       "  <thead>\n",
       "    <tr style=\"text-align: right;\">\n",
       "      <th></th>\n",
       "      <th>id</th>\n",
       "      <th>latitude</th>\n",
       "      <th>longitude</th>\n",
       "    </tr>\n",
       "  </thead>\n",
       "  <tbody>\n",
       "    <tr>\n",
       "      <th>count</th>\n",
       "      <td>11035.000000</td>\n",
       "      <td>11035.000000</td>\n",
       "      <td>11035.000000</td>\n",
       "    </tr>\n",
       "    <tr>\n",
       "      <th>mean</th>\n",
       "      <td>5518.026914</td>\n",
       "      <td>47.526678</td>\n",
       "      <td>7.580807</td>\n",
       "    </tr>\n",
       "    <tr>\n",
       "      <th>std</th>\n",
       "      <td>3185.719813</td>\n",
       "      <td>3.953972</td>\n",
       "      <td>63.655681</td>\n",
       "    </tr>\n",
       "    <tr>\n",
       "      <th>min</th>\n",
       "      <td>1.000000</td>\n",
       "      <td>-22.355790</td>\n",
       "      <td>-22.625538</td>\n",
       "    </tr>\n",
       "    <tr>\n",
       "      <th>25%</th>\n",
       "      <td>2759.500000</td>\n",
       "      <td>44.896447</td>\n",
       "      <td>1.358655</td>\n",
       "    </tr>\n",
       "    <tr>\n",
       "      <th>50%</th>\n",
       "      <td>5518.000000</td>\n",
       "      <td>47.759670</td>\n",
       "      <td>5.824010</td>\n",
       "    </tr>\n",
       "    <tr>\n",
       "      <th>75%</th>\n",
       "      <td>8276.500000</td>\n",
       "      <td>50.349956</td>\n",
       "      <td>12.166133</td>\n",
       "    </tr>\n",
       "    <tr>\n",
       "      <th>max</th>\n",
       "      <td>11036.000000</td>\n",
       "      <td>64.137571</td>\n",
       "      <td>6645.000000</td>\n",
       "    </tr>\n",
       "  </tbody>\n",
       "</table>\n",
       "</div>"
      ],
      "text/plain": [
       "                 id      latitude     longitude\n",
       "count  11035.000000  11035.000000  11035.000000\n",
       "mean    5518.026914     47.526678      7.580807\n",
       "std     3185.719813      3.953972     63.655681\n",
       "min        1.000000    -22.355790    -22.625538\n",
       "25%     2759.500000     44.896447      1.358655\n",
       "50%     5518.000000     47.759670      5.824010\n",
       "75%     8276.500000     50.349956     12.166133\n",
       "max    11036.000000     64.137571   6645.000000"
      ]
     },
     "metadata": {},
     "execution_count": 14
    }
   ],
   "metadata": {
    "ExecuteTime": {
     "end_time": "2021-09-26T21:33:55.235051Z",
     "start_time": "2021-09-26T21:33:55.048051Z"
    },
    "colab": {
     "base_uri": "https://localhost:8080/",
     "height": 300
    },
    "id": "3_GjMVRub8gA",
    "outputId": "26adfb79-c351-4a41-f835-7da063dcb5b3"
   }
  },
  {
   "cell_type": "markdown",
   "source": [
    "**Data Visualisation** // **Visualisation des données**"
   ],
   "metadata": {
    "id": "6gumo9-MqjOM"
   }
  },
  {
   "cell_type": "code",
   "execution_count": 15,
   "source": [
    "# Null values are going to be considered as False\n",
    "providers[\"has_wifi\"] = providers[\"has_wifi\"].fillna(0)\n",
    "providers[\"has_plug\"] = providers[\"has_plug\"].fillna(0) \n",
    "providers[\"has_adjustable_seats\"] = providers[\"has_adjustable_seats\"].fillna(0) \n",
    "providers[\"has_bicycle\"] = providers[\"has_bicycle\"].fillna(0) "
   ],
   "outputs": [],
   "metadata": {
    "ExecuteTime": {
     "end_time": "2021-09-26T21:33:55.455100Z",
     "start_time": "2021-09-26T21:33:55.238052Z"
    },
    "id": "xk1y15bFfAXa"
   }
  },
  {
   "cell_type": "code",
   "execution_count": 16,
   "source": [
    "providers[\"transport_type\"].value_counts().plot(kind=\"bar\",title=\"Types de transport\")"
   ],
   "outputs": [
    {
     "output_type": "execute_result",
     "data": {
      "text/plain": [
       "<AxesSubplot:title={'center':'Types de transport'}>"
      ]
     },
     "metadata": {},
     "execution_count": 16
    },
    {
     "output_type": "display_data",
     "data": {
      "image/png": "[encoded data removed]",
      "text/plain": [
       "<Figure size 432x288 with 1 Axes>"
      ]
     },
     "metadata": {
      "needs_background": "light"
     }
    }
   ],
   "metadata": {
    "ExecuteTime": {
     "end_time": "2021-09-26T21:33:56.537047Z",
     "start_time": "2021-09-26T21:33:55.460049Z"
    },
    "colab": {
     "base_uri": "https://localhost:8080/",
     "height": 342
    },
    "id": "w2ufFLhEm64p",
    "outputId": "a7031782-e563-410b-e4f6-4fbf99c78a5b"
   }
  },
  {
   "cell_type": "code",
   "execution_count": 17,
   "source": [
    "providers[\"has_wifi\"].value_counts().plot(kind=\"bar\",title=\"wifi\")"
   ],
   "outputs": [
    {
     "output_type": "execute_result",
     "data": {
      "text/plain": [
       "<AxesSubplot:title={'center':'wifi'}>"
      ]
     },
     "metadata": {},
     "execution_count": 17
    },
    {
     "output_type": "display_data",
     "data": {
      "image/png": "[encoded data removed]",
      "text/plain": [
       "<Figure size 432x288 with 1 Axes>"
      ]
     },
     "metadata": {
      "needs_background": "light"
     }
    }
   ],
   "metadata": {
    "ExecuteTime": {
     "end_time": "2021-09-26T21:33:56.696048Z",
     "start_time": "2021-09-26T21:33:56.541050Z"
    },
    "colab": {
     "base_uri": "https://localhost:8080/",
     "height": 314
    },
    "id": "CVArOWRFpL3U",
    "outputId": "3371475a-7a8d-459c-ce9b-7f10f3d8f083"
   }
  },
  {
   "cell_type": "code",
   "execution_count": 18,
   "source": [
    "providers[\"has_bicycle\"].value_counts().plot(kind=\"bar\",title=\"Bicycle\")"
   ],
   "outputs": [
    {
     "output_type": "execute_result",
     "data": {
      "text/plain": [
       "<AxesSubplot:title={'center':'Bicycle'}>"
      ]
     },
     "metadata": {},
     "execution_count": 18
    },
    {
     "output_type": "display_data",
     "data": {
      "image/png": "[encoded data removed]",
      "text/plain": [
       "<Figure size 432x288 with 1 Axes>"
      ]
     },
     "metadata": {
      "needs_background": "light"
     }
    }
   ],
   "metadata": {
    "ExecuteTime": {
     "end_time": "2021-09-26T21:33:56.949048Z",
     "start_time": "2021-09-26T21:33:56.698050Z"
    },
    "colab": {
     "base_uri": "https://localhost:8080/",
     "height": 314
    },
    "id": "3LC1Bu9sqzKi",
    "outputId": "31cd27a3-7e80-4d00-b68f-eb99492ef250"
   }
  },
  {
   "cell_type": "code",
   "execution_count": 19,
   "source": [
    "providers[\"has_plug\"].value_counts().plot(kind=\"bar\",title=\"Plug\")"
   ],
   "outputs": [
    {
     "output_type": "execute_result",
     "data": {
      "text/plain": [
       "<AxesSubplot:title={'center':'Plug'}>"
      ]
     },
     "metadata": {},
     "execution_count": 19
    },
    {
     "output_type": "display_data",
     "data": {
      "image/png": "[encoded data removed]",
      "text/plain": [
       "<Figure size 432x288 with 1 Axes>"
      ]
     },
     "metadata": {
      "needs_background": "light"
     }
    }
   ],
   "metadata": {
    "ExecuteTime": {
     "end_time": "2021-09-26T21:33:57.232047Z",
     "start_time": "2021-09-26T21:33:56.952052Z"
    },
    "colab": {
     "base_uri": "https://localhost:8080/",
     "height": 314
    },
    "id": "TfnxZljRtteR",
    "outputId": "62a4125b-b1ba-4d0f-f0e4-fe623a1b7cbd"
   }
  },
  {
   "cell_type": "code",
   "execution_count": 20,
   "source": [
    "providers[\"has_adjustable_seats\"].value_counts().plot(kind=\"bar\",title=\"Adjustable Seats\")"
   ],
   "outputs": [
    {
     "output_type": "execute_result",
     "data": {
      "text/plain": [
       "<AxesSubplot:title={'center':'Adjustable Seats'}>"
      ]
     },
     "metadata": {},
     "execution_count": 20
    },
    {
     "output_type": "display_data",
     "data": {
      "image/png": "[encoded data removed]",
      "text/plain": [
       "<Figure size 432x288 with 1 Axes>"
      ]
     },
     "metadata": {
      "needs_background": "light"
     }
    }
   ],
   "metadata": {
    "ExecuteTime": {
     "end_time": "2021-09-26T21:33:57.471049Z",
     "start_time": "2021-09-26T21:33:57.235053Z"
    },
    "colab": {
     "base_uri": "https://localhost:8080/",
     "height": 314
    },
    "id": "ZNfobLHFGdt8",
    "outputId": "06426289-1465-4044-f71f-2e62a57c56a2"
   }
  },
  {
   "cell_type": "markdown",
   "source": [
    "**Information Extraction** // **Extraction des données** "
   ],
   "metadata": {
    "id": "oCo7H_HpHCvK"
   }
  },
  {
   "cell_type": "code",
   "execution_count": 21,
   "source": [
    "#Minimum ticket Price // Prix Minimum\n",
    "print('Le prix minimum des tickets est : {}'.format(tickets['price_in_cents'].min()))\n",
    "#Maximum ticket Price// Prix Maximum\n",
    "print('Le prix maximum des tickets est : {}'.format(tickets['price_in_cents'].max()))\n",
    "#Average ticket price // Prix moyen\n",
    "print('Le prix moyen des tickets est : {}'.format(tickets['price_in_cents'].mean() ))\n"
   ],
   "outputs": [
    {
     "output_type": "stream",
     "name": "stdout",
     "text": [
      "Le prix minimum des tickets est : 300\n",
      "Le prix maximum des tickets est : 38550\n",
      "Le prix moyen des tickets est : 4382.711061374178\n"
     ]
    }
   ],
   "metadata": {
    "ExecuteTime": {
     "end_time": "2021-09-26T21:33:57.599049Z",
     "start_time": "2021-09-26T21:33:57.474063Z"
    },
    "colab": {
     "base_uri": "https://localhost:8080/"
    },
    "id": "cPHRAEyQGhwS",
    "outputId": "c20a1204-3cfc-4529-9a74-19c5757de466"
   }
  },
  {
   "cell_type": "code",
   "execution_count": 22,
   "source": [
    "tickets['price_in_cents'].plot(kind=\"box\", colormap=\"RdGy\", figsize=(8,15))"
   ],
   "outputs": [
    {
     "output_type": "execute_result",
     "data": {
      "text/plain": [
       "<AxesSubplot:>"
      ]
     },
     "metadata": {},
     "execution_count": 22
    },
    {
     "output_type": "display_data",
     "data": {
      "image/png": "[encoded data removed]",
      "text/plain": [
       "<Figure size 576x1080 with 1 Axes>"
      ]
     },
     "metadata": {
      "needs_background": "light"
     }
    }
   ],
   "metadata": {
    "ExecuteTime": {
     "end_time": "2021-09-26T21:33:57.995049Z",
     "start_time": "2021-09-26T21:33:57.602052Z"
    },
    "colab": {
     "base_uri": "https://localhost:8080/",
     "height": 882
    },
    "id": "y_3SLyetH2M2",
    "outputId": "9ce97233-f5d1-4300-b4b6-8c02dbedea7e"
   }
  },
  {
   "cell_type": "markdown",
   "source": [
    "Comme on peut le voir dans le boxplot, il existe plusieurs outliers ce qui indique que les valeurs ne sont pas distribuées homogènement. \n"
   ],
   "metadata": {
    "id": "c05ZPDD8KcVK"
   }
  },
  {
   "cell_type": "code",
   "execution_count": 23,
   "source": [
    "tickets['duration']=pd.to_datetime(tickets['arrival_ts'])-pd.to_datetime(tickets['departure_ts'])"
   ],
   "outputs": [],
   "metadata": {
    "ExecuteTime": {
     "end_time": "2021-09-26T21:33:58.106050Z",
     "start_time": "2021-09-26T21:33:57.997050Z"
    },
    "id": "kKpqPiJxI7mS"
   }
  },
  {
   "cell_type": "code",
   "execution_count": 24,
   "source": [
    "tickets['duration'].head()"
   ],
   "outputs": [
    {
     "output_type": "execute_result",
     "data": {
      "text/plain": [
       "0   0 days 06:10:00\n",
       "1   0 days 17:50:00\n",
       "2   1 days 07:57:00\n",
       "3   0 days 21:35:00\n",
       "4   0 days 21:46:00\n",
       "Name: duration, dtype: timedelta64[ns]"
      ]
     },
     "metadata": {},
     "execution_count": 24
    }
   ],
   "metadata": {
    "ExecuteTime": {
     "end_time": "2021-09-26T21:33:58.217049Z",
     "start_time": "2021-09-26T21:33:58.110051Z"
    },
    "colab": {
     "base_uri": "https://localhost:8080/"
    },
    "id": "cYJR7GUiKzoB",
    "outputId": "878dd235-ee97-490d-9091-f747eab8d265"
   }
  },
  {
   "cell_type": "code",
   "execution_count": 25,
   "source": [
    "#Minimum ticket Duration // Duréé Minimum\n",
    "print('La durée minimum des trajets est : {}'.format(tickets['duration'].min()))\n",
    "#Maximum ticket Price// Prix Maximum\n",
    "print('La durée maximum des trajets est : {}'.format(tickets['duration'].max()))\n",
    "#Average ticket price // Prix moyen\n",
    "print('La durée moyenne des trajets est : {}'.format(tickets['duration'].mean() ))\n"
   ],
   "outputs": [
    {
     "output_type": "stream",
     "name": "stdout",
     "text": [
      "La durée minimum des trajets est : 0 days 00:20:00\n",
      "La durée maximum des trajets est : 20 days 12:51:00\n",
      "La durée moyenne des trajets est : 0 days 07:04:37.247600043\n"
     ]
    }
   ],
   "metadata": {
    "ExecuteTime": {
     "end_time": "2021-09-26T21:33:58.422048Z",
     "start_time": "2021-09-26T21:33:58.221051Z"
    },
    "colab": {
     "base_uri": "https://localhost:8080/"
    },
    "id": "SXcx8DCcK3o_",
    "outputId": "8bb56e4d-0e98-4800-e51e-25b2836c3562"
   }
  },
  {
   "cell_type": "markdown",
   "source": [
    "\n",
    "\n",
    "*   La durée des trajets varie entre 20 minutes et 20 jours .\n",
    "*   Pour visualiser la durée des trajet, il faut les convertir en des valeurs numériques.\n",
    "\n",
    "\n"
   ],
   "metadata": {
    "id": "PV8HKgBIMBru"
   }
  },
  {
   "cell_type": "code",
   "execution_count": 26,
   "source": [
    "tickets['duration_in_minutes'] = tickets['duration'].dt.total_seconds() / 60"
   ],
   "outputs": [],
   "metadata": {
    "ExecuteTime": {
     "end_time": "2021-09-26T21:33:58.896048Z",
     "start_time": "2021-09-26T21:33:58.426050Z"
    },
    "id": "808NZuMqLTK1"
   }
  },
  {
   "cell_type": "code",
   "execution_count": 27,
   "source": [
    "tickets['duration_in_minutes'].value_counts().plot(kind=\"hist\", figsize=(10,10), bins=50)"
   ],
   "outputs": [
    {
     "output_type": "execute_result",
     "data": {
      "text/plain": [
       "<AxesSubplot:ylabel='Frequency'>"
      ]
     },
     "metadata": {},
     "execution_count": 27
    },
    {
     "output_type": "display_data",
     "data": {
      "image/png": "[encoded data removed]",
      "text/plain": [
       "<Figure size 720x720 with 1 Axes>"
      ]
     },
     "metadata": {
      "needs_background": "light"
     }
    }
   ],
   "metadata": {
    "ExecuteTime": {
     "end_time": "2021-09-26T21:33:59.356047Z",
     "start_time": "2021-09-26T21:33:58.899057Z"
    },
    "colab": {
     "base_uri": "https://localhost:8080/",
     "height": 610
    },
    "id": "kmdNeaUOLgw7",
    "outputId": "6641ad8c-dfe9-493a-a9db-b3cedab6a2c2"
   }
  },
  {
   "cell_type": "markdown",
   "source": [
    "Les durées des trajets ne sont pas homogènement distribuées.\n"
   ],
   "metadata": {
    "id": "F_n9Q7l3bimP"
   }
  },
  {
   "cell_type": "markdown",
   "source": [
    "**différence de prix moyen et durée selon le train, le bus et le covoit selon la distance du trajet (0-200km, 201-800km, 800-2000km, 2000+km)**"
   ],
   "metadata": {
    "id": "pM0bNCkEbtbA"
   }
  },
  {
   "cell_type": "markdown",
   "source": [
    "On calcule la distance entre le point de départ et le point d'arrivée pour chaque trajet en utilisant les \"Longitude\" et \"Lattitude\" des stations et des cités."
   ],
   "metadata": {
    "id": "eUYgcUOQWhaT"
   }
  },
  {
   "cell_type": "markdown",
   "source": [
    "J'ai fais quelques recherches sur les méthodes pour calculer la distance. J'ai trouvé cette question sur stackoverflow https://stackoverflow.com/questions/27928/calculate-distance-between-two-latitude-longitude-points-haversine-formula "
   ],
   "metadata": {}
  },
  {
   "cell_type": "code",
   "execution_count": 28,
   "source": [
    "def distance(lat_origin, lon_origin, lat_destination, lon_destination):\n",
    "    p = pi/180\n",
    "    a = 0.5 - cos((lat_destination-lat_origin)*p)/2 + cos(lat_origin*p) * cos(lat_destination*p) * (1-cos((lon_destination-lon_origin)*p))/2\n",
    "    return 12742 * asin(sqrt(a))\n",
    "def getLat(station_id,table):\n",
    "    lat = table[table['id']==station_id].latitude.values[0]\n",
    "    return lat\n",
    "def getLong(station_id,table):\n",
    "    long = table[table['id']==station_id].longitude.values[0]\n",
    "    return long\n"
   ],
   "outputs": [],
   "metadata": {
    "ExecuteTime": {
     "end_time": "2021-09-26T21:33:59.387049Z",
     "start_time": "2021-09-26T21:33:59.365050Z"
    },
    "id": "rmCxqUXsYrrz"
   }
  },
  {
   "cell_type": "code",
   "execution_count": 29,
   "source": [
    "tickets['distance']=0"
   ],
   "outputs": [],
   "metadata": {
    "ExecuteTime": {
     "end_time": "2021-09-26T21:33:59.498047Z",
     "start_time": "2021-09-26T21:33:59.389051Z"
    }
   }
  },
  {
   "cell_type": "code",
   "execution_count": 30,
   "source": [
    "def get_middle_stations(middle_stations):\n",
    "    middle_stations=middle_stations.replace('{','')\n",
    "    middle_stations=middle_stations.replace('}','')\n",
    "    return middle_stations.split(',')\n",
    "    "
   ],
   "outputs": [],
   "metadata": {
    "ExecuteTime": {
     "end_time": "2021-09-26T21:33:59.655048Z",
     "start_time": "2021-09-26T21:33:59.500051Z"
    }
   }
  },
  {
   "cell_type": "code",
   "execution_count": 31,
   "source": [
    "for index,row in tickets.iterrows():\n",
    "    if(not math.isnan(row['o_station']) and not math.isnan(row['d_station'])):\n",
    "        lat_origin = getLat(int(row['o_station']),stations)\n",
    "        lon_origin = getLong(int(row['o_station']),stations)\n",
    "        dist= 0\n",
    "        for station_id in get_middle_stations(row['middle_stations']):\n",
    "            lat_dest=getLat(int(station_id),stations)\n",
    "            lon_dest= getLong(int(station_id),stations)\n",
    "            dist+=distance(lat_origin, lon_origin, lat_dest, lon_dest)\n",
    "            lat_origin = lat_dest\n",
    "            lon_origin = lon_dest\n",
    "        lat_dest = getLat(int(row['d_station']),stations)\n",
    "        lon_dest = getLong(int(row['d_station']),stations)\n",
    "        dist+=distance(lat_origin, lon_origin, lat_dest, lon_dest)\n",
    "    else:\n",
    "        lat_origin = getLat(int(row['o_city']),cities)\n",
    "        lon_origin = getLong(int(row['o_city']),cities)\n",
    "        lat_dest = getLat(int(row['d_city']),cities)\n",
    "        lon_dest = getLong(int(row['d_city']),cities)\n",
    "        dist = distance(lat_origin, lon_origin, lat_dest, lon_dest)\n",
    "    tickets.loc[index,\"distance\"]=dist "
   ],
   "outputs": [],
   "metadata": {
    "ExecuteTime": {
     "end_time": "2021-09-26T21:39:08.068060Z",
     "start_time": "2021-09-26T21:33:59.657049Z"
    }
   }
  },
  {
   "cell_type": "code",
   "execution_count": 32,
   "source": [
    "tickets.head()"
   ],
   "outputs": [
    {
     "output_type": "execute_result",
     "data": {
      "text/html": [
       "<div>\n",
       "<style scoped>\n",
       "    .dataframe tbody tr th:only-of-type {\n",
       "        vertical-align: middle;\n",
       "    }\n",
       "\n",
       "    .dataframe tbody tr th {\n",
       "        vertical-align: top;\n",
       "    }\n",
       "\n",
       "    .dataframe thead th {\n",
       "        text-align: right;\n",
       "    }\n",
       "</style>\n",
       "<table border=\"1\" class=\"dataframe\">\n",
       "  <thead>\n",
       "    <tr style=\"text-align: right;\">\n",
       "      <th></th>\n",
       "      <th>id</th>\n",
       "      <th>company</th>\n",
       "      <th>o_station</th>\n",
       "      <th>d_station</th>\n",
       "      <th>departure_ts</th>\n",
       "      <th>arrival_ts</th>\n",
       "      <th>price_in_cents</th>\n",
       "      <th>search_ts</th>\n",
       "      <th>middle_stations</th>\n",
       "      <th>other_companies</th>\n",
       "      <th>o_city</th>\n",
       "      <th>d_city</th>\n",
       "      <th>duration</th>\n",
       "      <th>duration_in_minutes</th>\n",
       "      <th>distance</th>\n",
       "    </tr>\n",
       "  </thead>\n",
       "  <tbody>\n",
       "    <tr>\n",
       "      <th>0</th>\n",
       "      <td>6795025</td>\n",
       "      <td>8385</td>\n",
       "      <td>NaN</td>\n",
       "      <td>NaN</td>\n",
       "      <td>2017-10-13 14:00:00+00</td>\n",
       "      <td>2017-10-13 20:10:00+00</td>\n",
       "      <td>4550</td>\n",
       "      <td>2017-10-01 00:13:31.327+00</td>\n",
       "      <td>NaN</td>\n",
       "      <td>NaN</td>\n",
       "      <td>611</td>\n",
       "      <td>542</td>\n",
       "      <td>0 days 06:10:00</td>\n",
       "      <td>370.0</td>\n",
       "      <td>503.197167</td>\n",
       "    </tr>\n",
       "    <tr>\n",
       "      <th>1</th>\n",
       "      <td>6795026</td>\n",
       "      <td>9</td>\n",
       "      <td>63.0</td>\n",
       "      <td>1044.0</td>\n",
       "      <td>2017-10-13 13:05:00+00</td>\n",
       "      <td>2017-10-14 06:55:00+00</td>\n",
       "      <td>1450</td>\n",
       "      <td>2017-10-01 00:13:35.773+00</td>\n",
       "      <td>{149,418}</td>\n",
       "      <td>{13}</td>\n",
       "      <td>611</td>\n",
       "      <td>542</td>\n",
       "      <td>0 days 17:50:00</td>\n",
       "      <td>1070.0</td>\n",
       "      <td>508.560137</td>\n",
       "    </tr>\n",
       "    <tr>\n",
       "      <th>2</th>\n",
       "      <td>6795027</td>\n",
       "      <td>8377</td>\n",
       "      <td>5905.0</td>\n",
       "      <td>6495.0</td>\n",
       "      <td>2017-10-13 13:27:00+00</td>\n",
       "      <td>2017-10-14 21:24:00+00</td>\n",
       "      <td>7400</td>\n",
       "      <td>2017-10-01 00:13:40.212+00</td>\n",
       "      <td>{798,798,6794,6246}</td>\n",
       "      <td>{8377,8376}</td>\n",
       "      <td>611</td>\n",
       "      <td>542</td>\n",
       "      <td>1 days 07:57:00</td>\n",
       "      <td>1917.0</td>\n",
       "      <td>1085.277123</td>\n",
       "    </tr>\n",
       "    <tr>\n",
       "      <th>3</th>\n",
       "      <td>6795028</td>\n",
       "      <td>8377</td>\n",
       "      <td>5905.0</td>\n",
       "      <td>6495.0</td>\n",
       "      <td>2017-10-13 13:27:00+00</td>\n",
       "      <td>2017-10-14 11:02:00+00</td>\n",
       "      <td>13500</td>\n",
       "      <td>2017-10-01 00:13:40.213+00</td>\n",
       "      <td>{798,798,6794,6246}</td>\n",
       "      <td>{8377,8376}</td>\n",
       "      <td>611</td>\n",
       "      <td>542</td>\n",
       "      <td>0 days 21:35:00</td>\n",
       "      <td>1295.0</td>\n",
       "      <td>1085.277123</td>\n",
       "    </tr>\n",
       "    <tr>\n",
       "      <th>4</th>\n",
       "      <td>6795029</td>\n",
       "      <td>8381</td>\n",
       "      <td>5905.0</td>\n",
       "      <td>6495.0</td>\n",
       "      <td>2017-10-13 21:46:00+00</td>\n",
       "      <td>2017-10-14 19:32:00+00</td>\n",
       "      <td>7710</td>\n",
       "      <td>2017-10-01 00:13:40.213+00</td>\n",
       "      <td>{5983,5983}</td>\n",
       "      <td>{8380}</td>\n",
       "      <td>611</td>\n",
       "      <td>542</td>\n",
       "      <td>0 days 21:46:00</td>\n",
       "      <td>1306.0</td>\n",
       "      <td>630.222814</td>\n",
       "    </tr>\n",
       "  </tbody>\n",
       "</table>\n",
       "</div>"
      ],
      "text/plain": [
       "        id  company  o_station  d_station            departure_ts  \\\n",
       "0  6795025     8385        NaN        NaN  2017-10-13 14:00:00+00   \n",
       "1  6795026        9       63.0     1044.0  2017-10-13 13:05:00+00   \n",
       "2  6795027     8377     5905.0     6495.0  2017-10-13 13:27:00+00   \n",
       "3  6795028     8377     5905.0     6495.0  2017-10-13 13:27:00+00   \n",
       "4  6795029     8381     5905.0     6495.0  2017-10-13 21:46:00+00   \n",
       "\n",
       "               arrival_ts  price_in_cents                   search_ts  \\\n",
       "0  2017-10-13 20:10:00+00            4550  2017-10-01 00:13:31.327+00   \n",
       "1  2017-10-14 06:55:00+00            1450  2017-10-01 00:13:35.773+00   \n",
       "2  2017-10-14 21:24:00+00            7400  2017-10-01 00:13:40.212+00   \n",
       "3  2017-10-14 11:02:00+00           13500  2017-10-01 00:13:40.213+00   \n",
       "4  2017-10-14 19:32:00+00            7710  2017-10-01 00:13:40.213+00   \n",
       "\n",
       "       middle_stations other_companies  o_city  d_city        duration  \\\n",
       "0                  NaN             NaN     611     542 0 days 06:10:00   \n",
       "1            {149,418}            {13}     611     542 0 days 17:50:00   \n",
       "2  {798,798,6794,6246}     {8377,8376}     611     542 1 days 07:57:00   \n",
       "3  {798,798,6794,6246}     {8377,8376}     611     542 0 days 21:35:00   \n",
       "4          {5983,5983}          {8380}     611     542 0 days 21:46:00   \n",
       "\n",
       "   duration_in_minutes     distance  \n",
       "0                370.0   503.197167  \n",
       "1               1070.0   508.560137  \n",
       "2               1917.0  1085.277123  \n",
       "3               1295.0  1085.277123  \n",
       "4               1306.0   630.222814  "
      ]
     },
     "metadata": {},
     "execution_count": 32
    }
   ],
   "metadata": {
    "ExecuteTime": {
     "end_time": "2021-09-26T21:39:08.100051Z",
     "start_time": "2021-09-26T21:39:08.071051Z"
    }
   }
  },
  {
   "cell_type": "code",
   "execution_count": 33,
   "source": [
    "tickets['distance_category']=''"
   ],
   "outputs": [],
   "metadata": {
    "ExecuteTime": {
     "end_time": "2021-09-26T21:39:09.430048Z",
     "start_time": "2021-09-26T21:39:08.105052Z"
    }
   }
  },
  {
   "cell_type": "code",
   "execution_count": 34,
   "source": [
    "def distance_category(row):  \n",
    "    if row['distance']<=200:\n",
    "        category ='0-200'\n",
    "    if row['distance']<=800 and row['distance']>200:\n",
    "        category ='200-800'\n",
    "    if row['distance']<=2000 and row['distance']>800:\n",
    "        category ='800-2000'\n",
    "    if row['distance']>2000:\n",
    "        category = '2000+'\n",
    "    return category\n",
    "\n",
    "\n",
    "tickets['distance_category'] = tickets.apply(distance_category, axis=1)"
   ],
   "outputs": [],
   "metadata": {
    "ExecuteTime": {
     "end_time": "2021-09-26T21:39:12.428047Z",
     "start_time": "2021-09-26T21:39:09.433051Z"
    }
   }
  },
  {
   "cell_type": "code",
   "execution_count": 35,
   "source": [
    "tickets['distance_category'].value_counts().plot(kind=\"bar\")"
   ],
   "outputs": [
    {
     "output_type": "execute_result",
     "data": {
      "text/plain": [
       "<AxesSubplot:>"
      ]
     },
     "metadata": {},
     "execution_count": 35
    },
    {
     "output_type": "display_data",
     "data": {
      "image/png": "[encoded data removed]",
      "text/plain": [
       "<Figure size 432x288 with 1 Axes>"
      ]
     },
     "metadata": {
      "needs_background": "light"
     }
    }
   ],
   "metadata": {
    "ExecuteTime": {
     "end_time": "2021-09-26T21:39:12.635050Z",
     "start_time": "2021-09-26T21:39:12.430052Z"
    }
   }
  },
  {
   "cell_type": "markdown",
   "source": [
    "On remarque qu'il n'existe pas de catégorie de distance > 2000km. La plupart des distances est comprise entre 200 et 800 km ."
   ],
   "metadata": {}
  },
  {
   "cell_type": "markdown",
   "source": [
    "On va ajouter le type de transport dans le dataFrame Tickets. "
   ],
   "metadata": {}
  },
  {
   "cell_type": "code",
   "execution_count": 36,
   "source": [
    "tickets['transport_type']=''"
   ],
   "outputs": [],
   "metadata": {
    "ExecuteTime": {
     "end_time": "2021-09-26T21:39:13.936047Z",
     "start_time": "2021-09-26T21:39:12.638050Z"
    }
   }
  },
  {
   "cell_type": "code",
   "execution_count": 37,
   "source": [
    "def transport_type(row):\r\n",
    "    return providers[providers['id']==row['company']].transport_type.values[0]"
   ],
   "outputs": [],
   "metadata": {
    "ExecuteTime": {
     "end_time": "2021-09-26T21:39:14.286047Z",
     "start_time": "2021-09-26T21:39:13.938050Z"
    }
   }
  },
  {
   "cell_type": "code",
   "execution_count": 38,
   "source": [
    "tickets['transport_type'] = tickets.apply(transport_type, axis=1)"
   ],
   "outputs": [],
   "metadata": {
    "ExecuteTime": {
     "end_time": "2021-09-26T21:39:49.635048Z",
     "start_time": "2021-09-26T21:39:14.287051Z"
    }
   }
  },
  {
   "cell_type": "code",
   "execution_count": 39,
   "source": [
    "tickets.head()"
   ],
   "outputs": [
    {
     "output_type": "execute_result",
     "data": {
      "text/html": [
       "<div>\n",
       "<style scoped>\n",
       "    .dataframe tbody tr th:only-of-type {\n",
       "        vertical-align: middle;\n",
       "    }\n",
       "\n",
       "    .dataframe tbody tr th {\n",
       "        vertical-align: top;\n",
       "    }\n",
       "\n",
       "    .dataframe thead th {\n",
       "        text-align: right;\n",
       "    }\n",
       "</style>\n",
       "<table border=\"1\" class=\"dataframe\">\n",
       "  <thead>\n",
       "    <tr style=\"text-align: right;\">\n",
       "      <th></th>\n",
       "      <th>id</th>\n",
       "      <th>company</th>\n",
       "      <th>o_station</th>\n",
       "      <th>d_station</th>\n",
       "      <th>departure_ts</th>\n",
       "      <th>arrival_ts</th>\n",
       "      <th>price_in_cents</th>\n",
       "      <th>search_ts</th>\n",
       "      <th>middle_stations</th>\n",
       "      <th>other_companies</th>\n",
       "      <th>o_city</th>\n",
       "      <th>d_city</th>\n",
       "      <th>duration</th>\n",
       "      <th>duration_in_minutes</th>\n",
       "      <th>distance</th>\n",
       "      <th>distance_category</th>\n",
       "      <th>transport_type</th>\n",
       "    </tr>\n",
       "  </thead>\n",
       "  <tbody>\n",
       "    <tr>\n",
       "      <th>0</th>\n",
       "      <td>6795025</td>\n",
       "      <td>8385</td>\n",
       "      <td>NaN</td>\n",
       "      <td>NaN</td>\n",
       "      <td>2017-10-13 14:00:00+00</td>\n",
       "      <td>2017-10-13 20:10:00+00</td>\n",
       "      <td>4550</td>\n",
       "      <td>2017-10-01 00:13:31.327+00</td>\n",
       "      <td>NaN</td>\n",
       "      <td>NaN</td>\n",
       "      <td>611</td>\n",
       "      <td>542</td>\n",
       "      <td>0 days 06:10:00</td>\n",
       "      <td>370.0</td>\n",
       "      <td>503.197167</td>\n",
       "      <td>200-800</td>\n",
       "      <td>carpooling</td>\n",
       "    </tr>\n",
       "    <tr>\n",
       "      <th>1</th>\n",
       "      <td>6795026</td>\n",
       "      <td>9</td>\n",
       "      <td>63.0</td>\n",
       "      <td>1044.0</td>\n",
       "      <td>2017-10-13 13:05:00+00</td>\n",
       "      <td>2017-10-14 06:55:00+00</td>\n",
       "      <td>1450</td>\n",
       "      <td>2017-10-01 00:13:35.773+00</td>\n",
       "      <td>{149,418}</td>\n",
       "      <td>{13}</td>\n",
       "      <td>611</td>\n",
       "      <td>542</td>\n",
       "      <td>0 days 17:50:00</td>\n",
       "      <td>1070.0</td>\n",
       "      <td>508.560137</td>\n",
       "      <td>200-800</td>\n",
       "      <td>bus</td>\n",
       "    </tr>\n",
       "    <tr>\n",
       "      <th>2</th>\n",
       "      <td>6795027</td>\n",
       "      <td>8377</td>\n",
       "      <td>5905.0</td>\n",
       "      <td>6495.0</td>\n",
       "      <td>2017-10-13 13:27:00+00</td>\n",
       "      <td>2017-10-14 21:24:00+00</td>\n",
       "      <td>7400</td>\n",
       "      <td>2017-10-01 00:13:40.212+00</td>\n",
       "      <td>{798,798,6794,6246}</td>\n",
       "      <td>{8377,8376}</td>\n",
       "      <td>611</td>\n",
       "      <td>542</td>\n",
       "      <td>1 days 07:57:00</td>\n",
       "      <td>1917.0</td>\n",
       "      <td>1085.277123</td>\n",
       "      <td>800-2000</td>\n",
       "      <td>train</td>\n",
       "    </tr>\n",
       "    <tr>\n",
       "      <th>3</th>\n",
       "      <td>6795028</td>\n",
       "      <td>8377</td>\n",
       "      <td>5905.0</td>\n",
       "      <td>6495.0</td>\n",
       "      <td>2017-10-13 13:27:00+00</td>\n",
       "      <td>2017-10-14 11:02:00+00</td>\n",
       "      <td>13500</td>\n",
       "      <td>2017-10-01 00:13:40.213+00</td>\n",
       "      <td>{798,798,6794,6246}</td>\n",
       "      <td>{8377,8376}</td>\n",
       "      <td>611</td>\n",
       "      <td>542</td>\n",
       "      <td>0 days 21:35:00</td>\n",
       "      <td>1295.0</td>\n",
       "      <td>1085.277123</td>\n",
       "      <td>800-2000</td>\n",
       "      <td>train</td>\n",
       "    </tr>\n",
       "    <tr>\n",
       "      <th>4</th>\n",
       "      <td>6795029</td>\n",
       "      <td>8381</td>\n",
       "      <td>5905.0</td>\n",
       "      <td>6495.0</td>\n",
       "      <td>2017-10-13 21:46:00+00</td>\n",
       "      <td>2017-10-14 19:32:00+00</td>\n",
       "      <td>7710</td>\n",
       "      <td>2017-10-01 00:13:40.213+00</td>\n",
       "      <td>{5983,5983}</td>\n",
       "      <td>{8380}</td>\n",
       "      <td>611</td>\n",
       "      <td>542</td>\n",
       "      <td>0 days 21:46:00</td>\n",
       "      <td>1306.0</td>\n",
       "      <td>630.222814</td>\n",
       "      <td>200-800</td>\n",
       "      <td>train</td>\n",
       "    </tr>\n",
       "  </tbody>\n",
       "</table>\n",
       "</div>"
      ],
      "text/plain": [
       "        id  company  o_station  d_station            departure_ts  \\\n",
       "0  6795025     8385        NaN        NaN  2017-10-13 14:00:00+00   \n",
       "1  6795026        9       63.0     1044.0  2017-10-13 13:05:00+00   \n",
       "2  6795027     8377     5905.0     6495.0  2017-10-13 13:27:00+00   \n",
       "3  6795028     8377     5905.0     6495.0  2017-10-13 13:27:00+00   \n",
       "4  6795029     8381     5905.0     6495.0  2017-10-13 21:46:00+00   \n",
       "\n",
       "               arrival_ts  price_in_cents                   search_ts  \\\n",
       "0  2017-10-13 20:10:00+00            4550  2017-10-01 00:13:31.327+00   \n",
       "1  2017-10-14 06:55:00+00            1450  2017-10-01 00:13:35.773+00   \n",
       "2  2017-10-14 21:24:00+00            7400  2017-10-01 00:13:40.212+00   \n",
       "3  2017-10-14 11:02:00+00           13500  2017-10-01 00:13:40.213+00   \n",
       "4  2017-10-14 19:32:00+00            7710  2017-10-01 00:13:40.213+00   \n",
       "\n",
       "       middle_stations other_companies  o_city  d_city        duration  \\\n",
       "0                  NaN             NaN     611     542 0 days 06:10:00   \n",
       "1            {149,418}            {13}     611     542 0 days 17:50:00   \n",
       "2  {798,798,6794,6246}     {8377,8376}     611     542 1 days 07:57:00   \n",
       "3  {798,798,6794,6246}     {8377,8376}     611     542 0 days 21:35:00   \n",
       "4          {5983,5983}          {8380}     611     542 0 days 21:46:00   \n",
       "\n",
       "   duration_in_minutes     distance distance_category transport_type  \n",
       "0                370.0   503.197167           200-800     carpooling  \n",
       "1               1070.0   508.560137           200-800            bus  \n",
       "2               1917.0  1085.277123          800-2000          train  \n",
       "3               1295.0  1085.277123          800-2000          train  \n",
       "4               1306.0   630.222814           200-800          train  "
      ]
     },
     "metadata": {},
     "execution_count": 39
    }
   ],
   "metadata": {
    "ExecuteTime": {
     "end_time": "2021-09-26T21:39:49.666050Z",
     "start_time": "2021-09-26T21:39:49.640052Z"
    }
   }
  },
  {
   "cell_type": "code",
   "execution_count": 40,
   "source": [
    "price_in_cents_comparison= tickets.groupby(['distance_category','transport_type'])['price_in_cents',].mean().pivot_table(\r\n",
    "                    columns='transport_type',\r\n",
    "                    values='price_in_cents',\r\n",
    "                    index=['distance_category'],\r\n",
    "                )"
   ],
   "outputs": [],
   "metadata": {
    "ExecuteTime": {
     "end_time": "2021-09-26T21:39:50.825048Z",
     "start_time": "2021-09-26T21:39:49.670051Z"
    }
   }
  },
  {
   "cell_type": "code",
   "execution_count": 41,
   "source": [
    "price_in_cents_comparison"
   ],
   "outputs": [
    {
     "output_type": "execute_result",
     "data": {
      "text/html": [
       "<div>\n",
       "<style scoped>\n",
       "    .dataframe tbody tr th:only-of-type {\n",
       "        vertical-align: middle;\n",
       "    }\n",
       "\n",
       "    .dataframe tbody tr th {\n",
       "        vertical-align: top;\n",
       "    }\n",
       "\n",
       "    .dataframe thead th {\n",
       "        text-align: right;\n",
       "    }\n",
       "</style>\n",
       "<table border=\"1\" class=\"dataframe\">\n",
       "  <thead>\n",
       "    <tr style=\"text-align: right;\">\n",
       "      <th>transport_type</th>\n",
       "      <th>bus</th>\n",
       "      <th>carpooling</th>\n",
       "      <th>train</th>\n",
       "    </tr>\n",
       "    <tr>\n",
       "      <th>distance_category</th>\n",
       "      <th></th>\n",
       "      <th></th>\n",
       "      <th></th>\n",
       "    </tr>\n",
       "  </thead>\n",
       "  <tbody>\n",
       "    <tr>\n",
       "      <th>0-200</th>\n",
       "      <td>1985.856410</td>\n",
       "      <td>1177.352385</td>\n",
       "      <td>2954.796512</td>\n",
       "    </tr>\n",
       "    <tr>\n",
       "      <th>200-800</th>\n",
       "      <td>3394.874969</td>\n",
       "      <td>3218.064310</td>\n",
       "      <td>8828.796567</td>\n",
       "    </tr>\n",
       "    <tr>\n",
       "      <th>800-2000</th>\n",
       "      <td>6815.397656</td>\n",
       "      <td>8626.545455</td>\n",
       "      <td>16495.127226</td>\n",
       "    </tr>\n",
       "  </tbody>\n",
       "</table>\n",
       "</div>"
      ],
      "text/plain": [
       "transport_type             bus   carpooling         train\n",
       "distance_category                                        \n",
       "0-200              1985.856410  1177.352385   2954.796512\n",
       "200-800            3394.874969  3218.064310   8828.796567\n",
       "800-2000           6815.397656  8626.545455  16495.127226"
      ]
     },
     "metadata": {},
     "execution_count": 41
    }
   ],
   "metadata": {
    "ExecuteTime": {
     "end_time": "2021-09-26T21:39:50.905047Z",
     "start_time": "2021-09-26T21:39:50.829074Z"
    }
   }
  },
  {
   "cell_type": "code",
   "execution_count": 42,
   "source": [
    "duration_in_min_comparison= tickets.groupby(['distance_category','transport_type'])['duration_in_minutes',].mean().pivot_table(\n",
    "                    columns='transport_type',\n",
    "                    values='duration_in_minutes',\n",
    "                    index=['distance_category'],\n",
    "                )"
   ],
   "outputs": [],
   "metadata": {
    "ExecuteTime": {
     "end_time": "2021-09-26T21:39:51.078049Z",
     "start_time": "2021-09-26T21:39:50.907050Z"
    }
   }
  },
  {
   "cell_type": "code",
   "execution_count": 43,
   "source": [
    "duration_in_min_comparison"
   ],
   "outputs": [
    {
     "output_type": "execute_result",
     "data": {
      "text/html": [
       "<div>\n",
       "<style scoped>\n",
       "    .dataframe tbody tr th:only-of-type {\n",
       "        vertical-align: middle;\n",
       "    }\n",
       "\n",
       "    .dataframe tbody tr th {\n",
       "        vertical-align: top;\n",
       "    }\n",
       "\n",
       "    .dataframe thead th {\n",
       "        text-align: right;\n",
       "    }\n",
       "</style>\n",
       "<table border=\"1\" class=\"dataframe\">\n",
       "  <thead>\n",
       "    <tr style=\"text-align: right;\">\n",
       "      <th>transport_type</th>\n",
       "      <th>bus</th>\n",
       "      <th>carpooling</th>\n",
       "      <th>train</th>\n",
       "    </tr>\n",
       "    <tr>\n",
       "      <th>distance_category</th>\n",
       "      <th></th>\n",
       "      <th></th>\n",
       "      <th></th>\n",
       "    </tr>\n",
       "  </thead>\n",
       "  <tbody>\n",
       "    <tr>\n",
       "      <th>0-200</th>\n",
       "      <td>440.588034</td>\n",
       "      <td>117.122374</td>\n",
       "      <td>258.627422</td>\n",
       "    </tr>\n",
       "    <tr>\n",
       "      <th>200-800</th>\n",
       "      <td>888.341658</td>\n",
       "      <td>285.787874</td>\n",
       "      <td>447.531003</td>\n",
       "    </tr>\n",
       "    <tr>\n",
       "      <th>800-2000</th>\n",
       "      <td>1628.239063</td>\n",
       "      <td>786.013986</td>\n",
       "      <td>763.595420</td>\n",
       "    </tr>\n",
       "  </tbody>\n",
       "</table>\n",
       "</div>"
      ],
      "text/plain": [
       "transport_type             bus  carpooling       train\n",
       "distance_category                                     \n",
       "0-200               440.588034  117.122374  258.627422\n",
       "200-800             888.341658  285.787874  447.531003\n",
       "800-2000           1628.239063  786.013986  763.595420"
      ]
     },
     "metadata": {},
     "execution_count": 43
    }
   ],
   "metadata": {
    "ExecuteTime": {
     "end_time": "2021-09-26T21:39:51.206050Z",
     "start_time": "2021-09-26T21:39:51.081053Z"
    }
   }
  },
  {
   "cell_type": "code",
   "execution_count": 44,
   "source": [
    "price_in_cents_comparison.plot(kind=\"bar\")"
   ],
   "outputs": [
    {
     "output_type": "execute_result",
     "data": {
      "text/plain": [
       "<AxesSubplot:xlabel='distance_category'>"
      ]
     },
     "metadata": {},
     "execution_count": 44
    },
    {
     "output_type": "display_data",
     "data": {
      "image/png": "[encoded data removed]",
      "text/plain": [
       "<Figure size 432x288 with 1 Axes>"
      ]
     },
     "metadata": {
      "needs_background": "light"
     }
    }
   ],
   "metadata": {
    "ExecuteTime": {
     "end_time": "2021-09-26T21:39:51.539048Z",
     "start_time": "2021-09-26T21:39:51.208054Z"
    }
   }
  },
  {
   "cell_type": "markdown",
   "source": [
    "On peut remarquer que les frais de transport par train sont plus élevés que les autres moyens de transport pour toutes les catégories de distance. Pour les deux autres types de transport, tout dépend de la distance."
   ],
   "metadata": {}
  },
  {
   "cell_type": "code",
   "execution_count": 45,
   "source": [
    "duration_in_min_comparison.plot(kind=\"bar\")"
   ],
   "outputs": [
    {
     "output_type": "execute_result",
     "data": {
      "text/plain": [
       "<AxesSubplot:xlabel='distance_category'>"
      ]
     },
     "metadata": {},
     "execution_count": 45
    },
    {
     "output_type": "display_data",
     "data": {
      "image/png": "[encoded data removed]",
      "text/plain": [
       "<Figure size 432x288 with 1 Axes>"
      ]
     },
     "metadata": {
      "needs_background": "light"
     }
    }
   ],
   "metadata": {
    "ExecuteTime": {
     "end_time": "2021-09-26T21:39:51.808048Z",
     "start_time": "2021-09-26T21:39:51.542051Z"
    }
   }
  },
  {
   "cell_type": "markdown",
   "source": [
    "On remarque que le bus est le plus lent moyen de transport. Pour les longues distances, le train est un peu plus rapide que le couvoiturage, pour les distances entre 0 et 800km, le couvoiturage est plus rapide."
   ],
   "metadata": {}
  },
  {
   "cell_type": "markdown",
   "source": [
    "Si la distance est entre 0 et 800km, il serait mieux d'opter pour le covoiturage. Il est le plus rapide et le moins cher. Le covoiturage est un bon choix aussi pour la catégorie entre 800km et 2000km puisqu'il y a un bon rapport temps/prix"
   ],
   "metadata": {}
  },
  {
   "cell_type": "markdown",
   "source": [
    "**Prédiction des prix des tickets**"
   ],
   "metadata": {}
  },
  {
   "cell_type": "markdown",
   "source": [
    "Pour prédire les prix des tickets, je vais experimenter avec un modèle d'arbre de décision. "
   ],
   "metadata": {}
  },
  {
   "cell_type": "code",
   "execution_count": 46,
   "source": [
    "tickets.head()"
   ],
   "outputs": [
    {
     "output_type": "execute_result",
     "data": {
      "text/html": [
       "<div>\n",
       "<style scoped>\n",
       "    .dataframe tbody tr th:only-of-type {\n",
       "        vertical-align: middle;\n",
       "    }\n",
       "\n",
       "    .dataframe tbody tr th {\n",
       "        vertical-align: top;\n",
       "    }\n",
       "\n",
       "    .dataframe thead th {\n",
       "        text-align: right;\n",
       "    }\n",
       "</style>\n",
       "<table border=\"1\" class=\"dataframe\">\n",
       "  <thead>\n",
       "    <tr style=\"text-align: right;\">\n",
       "      <th></th>\n",
       "      <th>id</th>\n",
       "      <th>company</th>\n",
       "      <th>o_station</th>\n",
       "      <th>d_station</th>\n",
       "      <th>departure_ts</th>\n",
       "      <th>arrival_ts</th>\n",
       "      <th>price_in_cents</th>\n",
       "      <th>search_ts</th>\n",
       "      <th>middle_stations</th>\n",
       "      <th>other_companies</th>\n",
       "      <th>o_city</th>\n",
       "      <th>d_city</th>\n",
       "      <th>duration</th>\n",
       "      <th>duration_in_minutes</th>\n",
       "      <th>distance</th>\n",
       "      <th>distance_category</th>\n",
       "      <th>transport_type</th>\n",
       "    </tr>\n",
       "  </thead>\n",
       "  <tbody>\n",
       "    <tr>\n",
       "      <th>0</th>\n",
       "      <td>6795025</td>\n",
       "      <td>8385</td>\n",
       "      <td>NaN</td>\n",
       "      <td>NaN</td>\n",
       "      <td>2017-10-13 14:00:00+00</td>\n",
       "      <td>2017-10-13 20:10:00+00</td>\n",
       "      <td>4550</td>\n",
       "      <td>2017-10-01 00:13:31.327+00</td>\n",
       "      <td>NaN</td>\n",
       "      <td>NaN</td>\n",
       "      <td>611</td>\n",
       "      <td>542</td>\n",
       "      <td>0 days 06:10:00</td>\n",
       "      <td>370.0</td>\n",
       "      <td>503.197167</td>\n",
       "      <td>200-800</td>\n",
       "      <td>carpooling</td>\n",
       "    </tr>\n",
       "    <tr>\n",
       "      <th>1</th>\n",
       "      <td>6795026</td>\n",
       "      <td>9</td>\n",
       "      <td>63.0</td>\n",
       "      <td>1044.0</td>\n",
       "      <td>2017-10-13 13:05:00+00</td>\n",
       "      <td>2017-10-14 06:55:00+00</td>\n",
       "      <td>1450</td>\n",
       "      <td>2017-10-01 00:13:35.773+00</td>\n",
       "      <td>{149,418}</td>\n",
       "      <td>{13}</td>\n",
       "      <td>611</td>\n",
       "      <td>542</td>\n",
       "      <td>0 days 17:50:00</td>\n",
       "      <td>1070.0</td>\n",
       "      <td>508.560137</td>\n",
       "      <td>200-800</td>\n",
       "      <td>bus</td>\n",
       "    </tr>\n",
       "    <tr>\n",
       "      <th>2</th>\n",
       "      <td>6795027</td>\n",
       "      <td>8377</td>\n",
       "      <td>5905.0</td>\n",
       "      <td>6495.0</td>\n",
       "      <td>2017-10-13 13:27:00+00</td>\n",
       "      <td>2017-10-14 21:24:00+00</td>\n",
       "      <td>7400</td>\n",
       "      <td>2017-10-01 00:13:40.212+00</td>\n",
       "      <td>{798,798,6794,6246}</td>\n",
       "      <td>{8377,8376}</td>\n",
       "      <td>611</td>\n",
       "      <td>542</td>\n",
       "      <td>1 days 07:57:00</td>\n",
       "      <td>1917.0</td>\n",
       "      <td>1085.277123</td>\n",
       "      <td>800-2000</td>\n",
       "      <td>train</td>\n",
       "    </tr>\n",
       "    <tr>\n",
       "      <th>3</th>\n",
       "      <td>6795028</td>\n",
       "      <td>8377</td>\n",
       "      <td>5905.0</td>\n",
       "      <td>6495.0</td>\n",
       "      <td>2017-10-13 13:27:00+00</td>\n",
       "      <td>2017-10-14 11:02:00+00</td>\n",
       "      <td>13500</td>\n",
       "      <td>2017-10-01 00:13:40.213+00</td>\n",
       "      <td>{798,798,6794,6246}</td>\n",
       "      <td>{8377,8376}</td>\n",
       "      <td>611</td>\n",
       "      <td>542</td>\n",
       "      <td>0 days 21:35:00</td>\n",
       "      <td>1295.0</td>\n",
       "      <td>1085.277123</td>\n",
       "      <td>800-2000</td>\n",
       "      <td>train</td>\n",
       "    </tr>\n",
       "    <tr>\n",
       "      <th>4</th>\n",
       "      <td>6795029</td>\n",
       "      <td>8381</td>\n",
       "      <td>5905.0</td>\n",
       "      <td>6495.0</td>\n",
       "      <td>2017-10-13 21:46:00+00</td>\n",
       "      <td>2017-10-14 19:32:00+00</td>\n",
       "      <td>7710</td>\n",
       "      <td>2017-10-01 00:13:40.213+00</td>\n",
       "      <td>{5983,5983}</td>\n",
       "      <td>{8380}</td>\n",
       "      <td>611</td>\n",
       "      <td>542</td>\n",
       "      <td>0 days 21:46:00</td>\n",
       "      <td>1306.0</td>\n",
       "      <td>630.222814</td>\n",
       "      <td>200-800</td>\n",
       "      <td>train</td>\n",
       "    </tr>\n",
       "  </tbody>\n",
       "</table>\n",
       "</div>"
      ],
      "text/plain": [
       "        id  company  o_station  d_station            departure_ts  \\\n",
       "0  6795025     8385        NaN        NaN  2017-10-13 14:00:00+00   \n",
       "1  6795026        9       63.0     1044.0  2017-10-13 13:05:00+00   \n",
       "2  6795027     8377     5905.0     6495.0  2017-10-13 13:27:00+00   \n",
       "3  6795028     8377     5905.0     6495.0  2017-10-13 13:27:00+00   \n",
       "4  6795029     8381     5905.0     6495.0  2017-10-13 21:46:00+00   \n",
       "\n",
       "               arrival_ts  price_in_cents                   search_ts  \\\n",
       "0  2017-10-13 20:10:00+00            4550  2017-10-01 00:13:31.327+00   \n",
       "1  2017-10-14 06:55:00+00            1450  2017-10-01 00:13:35.773+00   \n",
       "2  2017-10-14 21:24:00+00            7400  2017-10-01 00:13:40.212+00   \n",
       "3  2017-10-14 11:02:00+00           13500  2017-10-01 00:13:40.213+00   \n",
       "4  2017-10-14 19:32:00+00            7710  2017-10-01 00:13:40.213+00   \n",
       "\n",
       "       middle_stations other_companies  o_city  d_city        duration  \\\n",
       "0                  NaN             NaN     611     542 0 days 06:10:00   \n",
       "1            {149,418}            {13}     611     542 0 days 17:50:00   \n",
       "2  {798,798,6794,6246}     {8377,8376}     611     542 1 days 07:57:00   \n",
       "3  {798,798,6794,6246}     {8377,8376}     611     542 0 days 21:35:00   \n",
       "4          {5983,5983}          {8380}     611     542 0 days 21:46:00   \n",
       "\n",
       "   duration_in_minutes     distance distance_category transport_type  \n",
       "0                370.0   503.197167           200-800     carpooling  \n",
       "1               1070.0   508.560137           200-800            bus  \n",
       "2               1917.0  1085.277123          800-2000          train  \n",
       "3               1295.0  1085.277123          800-2000          train  \n",
       "4               1306.0   630.222814           200-800          train  "
      ]
     },
     "metadata": {},
     "execution_count": 46
    }
   ],
   "metadata": {
    "ExecuteTime": {
     "end_time": "2021-09-26T21:39:51.872048Z",
     "start_time": "2021-09-26T21:39:51.810055Z"
    }
   }
  },
  {
   "cell_type": "code",
   "execution_count": 47,
   "source": [
    "predictions_table= pd.merge(tickets,providers, left_on=\"company\", right_on=\"id\", how=\"inner\")"
   ],
   "outputs": [],
   "metadata": {
    "ExecuteTime": {
     "end_time": "2021-09-26T21:39:52.187048Z",
     "start_time": "2021-09-26T21:39:51.874051Z"
    }
   }
  },
  {
   "cell_type": "code",
   "execution_count": 48,
   "source": [
    "predictions_table.head()"
   ],
   "outputs": [
    {
     "output_type": "execute_result",
     "data": {
      "text/html": [
       "<div>\n",
       "<style scoped>\n",
       "    .dataframe tbody tr th:only-of-type {\n",
       "        vertical-align: middle;\n",
       "    }\n",
       "\n",
       "    .dataframe tbody tr th {\n",
       "        vertical-align: top;\n",
       "    }\n",
       "\n",
       "    .dataframe thead th {\n",
       "        text-align: right;\n",
       "    }\n",
       "</style>\n",
       "<table border=\"1\" class=\"dataframe\">\n",
       "  <thead>\n",
       "    <tr style=\"text-align: right;\">\n",
       "      <th></th>\n",
       "      <th>id_x</th>\n",
       "      <th>company</th>\n",
       "      <th>o_station</th>\n",
       "      <th>d_station</th>\n",
       "      <th>departure_ts</th>\n",
       "      <th>arrival_ts</th>\n",
       "      <th>price_in_cents</th>\n",
       "      <th>search_ts</th>\n",
       "      <th>middle_stations</th>\n",
       "      <th>other_companies</th>\n",
       "      <th>...</th>\n",
       "      <th>id_y</th>\n",
       "      <th>company_id</th>\n",
       "      <th>provider_id</th>\n",
       "      <th>name</th>\n",
       "      <th>fullname</th>\n",
       "      <th>has_wifi</th>\n",
       "      <th>has_plug</th>\n",
       "      <th>has_adjustable_seats</th>\n",
       "      <th>has_bicycle</th>\n",
       "      <th>transport_type_y</th>\n",
       "    </tr>\n",
       "  </thead>\n",
       "  <tbody>\n",
       "    <tr>\n",
       "      <th>0</th>\n",
       "      <td>6795025</td>\n",
       "      <td>8385</td>\n",
       "      <td>NaN</td>\n",
       "      <td>NaN</td>\n",
       "      <td>2017-10-13 14:00:00+00</td>\n",
       "      <td>2017-10-13 20:10:00+00</td>\n",
       "      <td>4550</td>\n",
       "      <td>2017-10-01 00:13:31.327+00</td>\n",
       "      <td>NaN</td>\n",
       "      <td>NaN</td>\n",
       "      <td>...</td>\n",
       "      <td>8385</td>\n",
       "      <td>11</td>\n",
       "      <td>NaN</td>\n",
       "      <td>bbc</td>\n",
       "      <td>Blablacar</td>\n",
       "      <td>False</td>\n",
       "      <td>False</td>\n",
       "      <td>False</td>\n",
       "      <td>False</td>\n",
       "      <td>carpooling</td>\n",
       "    </tr>\n",
       "    <tr>\n",
       "      <th>1</th>\n",
       "      <td>6795030</td>\n",
       "      <td>8385</td>\n",
       "      <td>NaN</td>\n",
       "      <td>NaN</td>\n",
       "      <td>2017-10-06 05:30:00+00</td>\n",
       "      <td>2017-10-06 08:30:00+00</td>\n",
       "      <td>1800</td>\n",
       "      <td>2017-10-01 01:03:18.948+00</td>\n",
       "      <td>NaN</td>\n",
       "      <td>NaN</td>\n",
       "      <td>...</td>\n",
       "      <td>8385</td>\n",
       "      <td>11</td>\n",
       "      <td>NaN</td>\n",
       "      <td>bbc</td>\n",
       "      <td>Blablacar</td>\n",
       "      <td>False</td>\n",
       "      <td>False</td>\n",
       "      <td>False</td>\n",
       "      <td>False</td>\n",
       "      <td>carpooling</td>\n",
       "    </tr>\n",
       "    <tr>\n",
       "      <th>2</th>\n",
       "      <td>6795031</td>\n",
       "      <td>8385</td>\n",
       "      <td>NaN</td>\n",
       "      <td>NaN</td>\n",
       "      <td>2017-10-06 07:00:42+00</td>\n",
       "      <td>2017-10-06 09:30:42+00</td>\n",
       "      <td>2150</td>\n",
       "      <td>2017-10-01 01:03:18.948+00</td>\n",
       "      <td>NaN</td>\n",
       "      <td>NaN</td>\n",
       "      <td>...</td>\n",
       "      <td>8385</td>\n",
       "      <td>11</td>\n",
       "      <td>NaN</td>\n",
       "      <td>bbc</td>\n",
       "      <td>Blablacar</td>\n",
       "      <td>False</td>\n",
       "      <td>False</td>\n",
       "      <td>False</td>\n",
       "      <td>False</td>\n",
       "      <td>carpooling</td>\n",
       "    </tr>\n",
       "    <tr>\n",
       "      <th>3</th>\n",
       "      <td>6795032</td>\n",
       "      <td>8385</td>\n",
       "      <td>NaN</td>\n",
       "      <td>NaN</td>\n",
       "      <td>2017-10-06 07:10:00+00</td>\n",
       "      <td>2017-10-06 09:40:00+00</td>\n",
       "      <td>1700</td>\n",
       "      <td>2017-10-01 01:03:18.948+00</td>\n",
       "      <td>NaN</td>\n",
       "      <td>NaN</td>\n",
       "      <td>...</td>\n",
       "      <td>8385</td>\n",
       "      <td>11</td>\n",
       "      <td>NaN</td>\n",
       "      <td>bbc</td>\n",
       "      <td>Blablacar</td>\n",
       "      <td>False</td>\n",
       "      <td>False</td>\n",
       "      <td>False</td>\n",
       "      <td>False</td>\n",
       "      <td>carpooling</td>\n",
       "    </tr>\n",
       "    <tr>\n",
       "      <th>4</th>\n",
       "      <td>6795033</td>\n",
       "      <td>8385</td>\n",
       "      <td>NaN</td>\n",
       "      <td>NaN</td>\n",
       "      <td>2017-10-06 10:00:00+00</td>\n",
       "      <td>2017-10-06 12:50:00+00</td>\n",
       "      <td>1700</td>\n",
       "      <td>2017-10-01 01:03:18.948+00</td>\n",
       "      <td>NaN</td>\n",
       "      <td>NaN</td>\n",
       "      <td>...</td>\n",
       "      <td>8385</td>\n",
       "      <td>11</td>\n",
       "      <td>NaN</td>\n",
       "      <td>bbc</td>\n",
       "      <td>Blablacar</td>\n",
       "      <td>False</td>\n",
       "      <td>False</td>\n",
       "      <td>False</td>\n",
       "      <td>False</td>\n",
       "      <td>carpooling</td>\n",
       "    </tr>\n",
       "  </tbody>\n",
       "</table>\n",
       "<p>5 rows × 27 columns</p>\n",
       "</div>"
      ],
      "text/plain": [
       "      id_x  company  o_station  d_station            departure_ts  \\\n",
       "0  6795025     8385        NaN        NaN  2017-10-13 14:00:00+00   \n",
       "1  6795030     8385        NaN        NaN  2017-10-06 05:30:00+00   \n",
       "2  6795031     8385        NaN        NaN  2017-10-06 07:00:42+00   \n",
       "3  6795032     8385        NaN        NaN  2017-10-06 07:10:00+00   \n",
       "4  6795033     8385        NaN        NaN  2017-10-06 10:00:00+00   \n",
       "\n",
       "               arrival_ts  price_in_cents                   search_ts  \\\n",
       "0  2017-10-13 20:10:00+00            4550  2017-10-01 00:13:31.327+00   \n",
       "1  2017-10-06 08:30:00+00            1800  2017-10-01 01:03:18.948+00   \n",
       "2  2017-10-06 09:30:42+00            2150  2017-10-01 01:03:18.948+00   \n",
       "3  2017-10-06 09:40:00+00            1700  2017-10-01 01:03:18.948+00   \n",
       "4  2017-10-06 12:50:00+00            1700  2017-10-01 01:03:18.948+00   \n",
       "\n",
       "  middle_stations other_companies  ...  id_y  company_id provider_id  name  \\\n",
       "0             NaN             NaN  ...  8385          11         NaN   bbc   \n",
       "1             NaN             NaN  ...  8385          11         NaN   bbc   \n",
       "2             NaN             NaN  ...  8385          11         NaN   bbc   \n",
       "3             NaN             NaN  ...  8385          11         NaN   bbc   \n",
       "4             NaN             NaN  ...  8385          11         NaN   bbc   \n",
       "\n",
       "    fullname has_wifi has_plug  has_adjustable_seats  has_bicycle  \\\n",
       "0  Blablacar    False    False                 False        False   \n",
       "1  Blablacar    False    False                 False        False   \n",
       "2  Blablacar    False    False                 False        False   \n",
       "3  Blablacar    False    False                 False        False   \n",
       "4  Blablacar    False    False                 False        False   \n",
       "\n",
       "  transport_type_y  \n",
       "0       carpooling  \n",
       "1       carpooling  \n",
       "2       carpooling  \n",
       "3       carpooling  \n",
       "4       carpooling  \n",
       "\n",
       "[5 rows x 27 columns]"
      ]
     },
     "metadata": {},
     "execution_count": 48
    }
   ],
   "metadata": {
    "ExecuteTime": {
     "end_time": "2021-09-26T21:39:52.219048Z",
     "start_time": "2021-09-26T21:39:52.188051Z"
    }
   }
  },
  {
   "cell_type": "markdown",
   "source": [
    "Il y a plusieurs colonnes qui n'ont pas vraiment du sens lorsqu'il s'agit de prédiction des prix."
   ],
   "metadata": {
    "ExecuteTime": {
     "end_time": "2021-09-26T18:00:29.269948Z",
     "start_time": "2021-09-26T18:00:29.100952Z"
    }
   }
  },
  {
   "cell_type": "code",
   "execution_count": 49,
   "source": [
    "predictions_table.info()"
   ],
   "outputs": [
    {
     "output_type": "stream",
     "name": "stdout",
     "text": [
      "<class 'pandas.core.frame.DataFrame'>\n",
      "Int64Index: 74168 entries, 0 to 74167\n",
      "Data columns (total 27 columns):\n",
      " #   Column                Non-Null Count  Dtype          \n",
      "---  ------                --------------  -----          \n",
      " 0   id_x                  74168 non-null  int64          \n",
      " 1   company               74168 non-null  int64          \n",
      " 2   o_station             32727 non-null  float64        \n",
      " 3   d_station             32727 non-null  float64        \n",
      " 4   departure_ts          74168 non-null  object         \n",
      " 5   arrival_ts            74168 non-null  object         \n",
      " 6   price_in_cents        74168 non-null  int64          \n",
      " 7   search_ts             74168 non-null  object         \n",
      " 8   middle_stations       32727 non-null  object         \n",
      " 9   other_companies       32727 non-null  object         \n",
      " 10  o_city                74168 non-null  int64          \n",
      " 11  d_city                74168 non-null  int64          \n",
      " 12  duration              74168 non-null  timedelta64[ns]\n",
      " 13  duration_in_minutes   74168 non-null  float64        \n",
      " 14  distance              74168 non-null  float64        \n",
      " 15  distance_category     74168 non-null  object         \n",
      " 16  transport_type_x      74168 non-null  object         \n",
      " 17  id_y                  74168 non-null  int64          \n",
      " 18  company_id            74168 non-null  int64          \n",
      " 19  provider_id           21704 non-null  object         \n",
      " 20  name                  74168 non-null  object         \n",
      " 21  fullname              74168 non-null  object         \n",
      " 22  has_wifi              74168 non-null  object         \n",
      " 23  has_plug              74168 non-null  object         \n",
      " 24  has_adjustable_seats  74168 non-null  object         \n",
      " 25  has_bicycle           74168 non-null  object         \n",
      " 26  transport_type_y      74168 non-null  object         \n",
      "dtypes: float64(4), int64(7), object(15), timedelta64[ns](1)\n",
      "memory usage: 15.8+ MB\n"
     ]
    }
   ],
   "metadata": {
    "ExecuteTime": {
     "end_time": "2021-09-26T21:39:52.378052Z",
     "start_time": "2021-09-26T21:39:52.221051Z"
    }
   }
  },
  {
   "cell_type": "code",
   "execution_count": 50,
   "source": [
    "predictions_table.drop(['o_station','d_station','search_ts','middle_stations','other_companies','duration','distance','id_y','company_id','provider_id','name','fullname','transport_type_y'],axis=1,inplace=True)"
   ],
   "outputs": [],
   "metadata": {
    "ExecuteTime": {
     "end_time": "2021-09-26T21:39:52.458048Z",
     "start_time": "2021-09-26T21:39:52.385051Z"
    }
   }
  },
  {
   "cell_type": "code",
   "execution_count": 51,
   "source": [
    "predictions_table.info()"
   ],
   "outputs": [
    {
     "output_type": "stream",
     "name": "stdout",
     "text": [
      "<class 'pandas.core.frame.DataFrame'>\n",
      "Int64Index: 74168 entries, 0 to 74167\n",
      "Data columns (total 14 columns):\n",
      " #   Column                Non-Null Count  Dtype  \n",
      "---  ------                --------------  -----  \n",
      " 0   id_x                  74168 non-null  int64  \n",
      " 1   company               74168 non-null  int64  \n",
      " 2   departure_ts          74168 non-null  object \n",
      " 3   arrival_ts            74168 non-null  object \n",
      " 4   price_in_cents        74168 non-null  int64  \n",
      " 5   o_city                74168 non-null  int64  \n",
      " 6   d_city                74168 non-null  int64  \n",
      " 7   duration_in_minutes   74168 non-null  float64\n",
      " 8   distance_category     74168 non-null  object \n",
      " 9   transport_type_x      74168 non-null  object \n",
      " 10  has_wifi              74168 non-null  object \n",
      " 11  has_plug              74168 non-null  object \n",
      " 12  has_adjustable_seats  74168 non-null  object \n",
      " 13  has_bicycle           74168 non-null  object \n",
      "dtypes: float64(1), int64(5), object(8)\n",
      "memory usage: 8.5+ MB\n"
     ]
    }
   ],
   "metadata": {
    "ExecuteTime": {
     "end_time": "2021-09-26T21:39:52.569047Z",
     "start_time": "2021-09-26T21:39:52.460049Z"
    }
   }
  },
  {
   "cell_type": "code",
   "execution_count": 52,
   "source": [
    "predictions_table.head()"
   ],
   "outputs": [
    {
     "output_type": "execute_result",
     "data": {
      "text/html": [
       "<div>\n",
       "<style scoped>\n",
       "    .dataframe tbody tr th:only-of-type {\n",
       "        vertical-align: middle;\n",
       "    }\n",
       "\n",
       "    .dataframe tbody tr th {\n",
       "        vertical-align: top;\n",
       "    }\n",
       "\n",
       "    .dataframe thead th {\n",
       "        text-align: right;\n",
       "    }\n",
       "</style>\n",
       "<table border=\"1\" class=\"dataframe\">\n",
       "  <thead>\n",
       "    <tr style=\"text-align: right;\">\n",
       "      <th></th>\n",
       "      <th>id_x</th>\n",
       "      <th>company</th>\n",
       "      <th>departure_ts</th>\n",
       "      <th>arrival_ts</th>\n",
       "      <th>price_in_cents</th>\n",
       "      <th>o_city</th>\n",
       "      <th>d_city</th>\n",
       "      <th>duration_in_minutes</th>\n",
       "      <th>distance_category</th>\n",
       "      <th>transport_type_x</th>\n",
       "      <th>has_wifi</th>\n",
       "      <th>has_plug</th>\n",
       "      <th>has_adjustable_seats</th>\n",
       "      <th>has_bicycle</th>\n",
       "    </tr>\n",
       "  </thead>\n",
       "  <tbody>\n",
       "    <tr>\n",
       "      <th>0</th>\n",
       "      <td>6795025</td>\n",
       "      <td>8385</td>\n",
       "      <td>2017-10-13 14:00:00+00</td>\n",
       "      <td>2017-10-13 20:10:00+00</td>\n",
       "      <td>4550</td>\n",
       "      <td>611</td>\n",
       "      <td>542</td>\n",
       "      <td>370.0</td>\n",
       "      <td>200-800</td>\n",
       "      <td>carpooling</td>\n",
       "      <td>False</td>\n",
       "      <td>False</td>\n",
       "      <td>False</td>\n",
       "      <td>False</td>\n",
       "    </tr>\n",
       "    <tr>\n",
       "      <th>1</th>\n",
       "      <td>6795030</td>\n",
       "      <td>8385</td>\n",
       "      <td>2017-10-06 05:30:00+00</td>\n",
       "      <td>2017-10-06 08:30:00+00</td>\n",
       "      <td>1800</td>\n",
       "      <td>628</td>\n",
       "      <td>453</td>\n",
       "      <td>180.0</td>\n",
       "      <td>200-800</td>\n",
       "      <td>carpooling</td>\n",
       "      <td>False</td>\n",
       "      <td>False</td>\n",
       "      <td>False</td>\n",
       "      <td>False</td>\n",
       "    </tr>\n",
       "    <tr>\n",
       "      <th>2</th>\n",
       "      <td>6795031</td>\n",
       "      <td>8385</td>\n",
       "      <td>2017-10-06 07:00:42+00</td>\n",
       "      <td>2017-10-06 09:30:42+00</td>\n",
       "      <td>2150</td>\n",
       "      <td>628</td>\n",
       "      <td>453</td>\n",
       "      <td>150.0</td>\n",
       "      <td>200-800</td>\n",
       "      <td>carpooling</td>\n",
       "      <td>False</td>\n",
       "      <td>False</td>\n",
       "      <td>False</td>\n",
       "      <td>False</td>\n",
       "    </tr>\n",
       "    <tr>\n",
       "      <th>3</th>\n",
       "      <td>6795032</td>\n",
       "      <td>8385</td>\n",
       "      <td>2017-10-06 07:10:00+00</td>\n",
       "      <td>2017-10-06 09:40:00+00</td>\n",
       "      <td>1700</td>\n",
       "      <td>628</td>\n",
       "      <td>453</td>\n",
       "      <td>150.0</td>\n",
       "      <td>200-800</td>\n",
       "      <td>carpooling</td>\n",
       "      <td>False</td>\n",
       "      <td>False</td>\n",
       "      <td>False</td>\n",
       "      <td>False</td>\n",
       "    </tr>\n",
       "    <tr>\n",
       "      <th>4</th>\n",
       "      <td>6795033</td>\n",
       "      <td>8385</td>\n",
       "      <td>2017-10-06 10:00:00+00</td>\n",
       "      <td>2017-10-06 12:50:00+00</td>\n",
       "      <td>1700</td>\n",
       "      <td>628</td>\n",
       "      <td>453</td>\n",
       "      <td>170.0</td>\n",
       "      <td>200-800</td>\n",
       "      <td>carpooling</td>\n",
       "      <td>False</td>\n",
       "      <td>False</td>\n",
       "      <td>False</td>\n",
       "      <td>False</td>\n",
       "    </tr>\n",
       "  </tbody>\n",
       "</table>\n",
       "</div>"
      ],
      "text/plain": [
       "      id_x  company            departure_ts              arrival_ts  \\\n",
       "0  6795025     8385  2017-10-13 14:00:00+00  2017-10-13 20:10:00+00   \n",
       "1  6795030     8385  2017-10-06 05:30:00+00  2017-10-06 08:30:00+00   \n",
       "2  6795031     8385  2017-10-06 07:00:42+00  2017-10-06 09:30:42+00   \n",
       "3  6795032     8385  2017-10-06 07:10:00+00  2017-10-06 09:40:00+00   \n",
       "4  6795033     8385  2017-10-06 10:00:00+00  2017-10-06 12:50:00+00   \n",
       "\n",
       "   price_in_cents  o_city  d_city  duration_in_minutes distance_category  \\\n",
       "0            4550     611     542                370.0           200-800   \n",
       "1            1800     628     453                180.0           200-800   \n",
       "2            2150     628     453                150.0           200-800   \n",
       "3            1700     628     453                150.0           200-800   \n",
       "4            1700     628     453                170.0           200-800   \n",
       "\n",
       "  transport_type_x has_wifi has_plug has_adjustable_seats has_bicycle  \n",
       "0       carpooling    False    False                False       False  \n",
       "1       carpooling    False    False                False       False  \n",
       "2       carpooling    False    False                False       False  \n",
       "3       carpooling    False    False                False       False  \n",
       "4       carpooling    False    False                False       False  "
      ]
     },
     "metadata": {},
     "execution_count": 52
    }
   ],
   "metadata": {
    "ExecuteTime": {
     "end_time": "2021-09-26T21:39:52.680049Z",
     "start_time": "2021-09-26T21:39:52.571051Z"
    }
   }
  },
  {
   "cell_type": "code",
   "execution_count": 53,
   "source": [
    "predictions_table['departure_month']=pd.to_datetime(predictions_table['departure_ts'], format = \"%Y-%m-%d %H:%M:%S\").dt.month\n",
    "predictions_table['departure_year']=pd.to_datetime(predictions_table['departure_ts'], format = \"%Y-%m-%d %H:%M:%S\").dt.year\n",
    "predictions_table['arrival_month_month']=pd.to_datetime(predictions_table['arrival_ts'], format = \"%Y-%m-%d %H:%M:%S\").dt.month\n",
    "predictions_table['arrival_year']=pd.to_datetime(predictions_table['arrival_ts'], format = \"%Y-%m-%d %H:%M:%S\").dt.year\n"
   ],
   "outputs": [],
   "metadata": {
    "ExecuteTime": {
     "end_time": "2021-09-26T21:39:53.060047Z",
     "start_time": "2021-09-26T21:39:52.682051Z"
    }
   }
  },
  {
   "cell_type": "code",
   "execution_count": 54,
   "source": [
    "predictions_table.head()"
   ],
   "outputs": [
    {
     "output_type": "execute_result",
     "data": {
      "text/html": [
       "<div>\n",
       "<style scoped>\n",
       "    .dataframe tbody tr th:only-of-type {\n",
       "        vertical-align: middle;\n",
       "    }\n",
       "\n",
       "    .dataframe tbody tr th {\n",
       "        vertical-align: top;\n",
       "    }\n",
       "\n",
       "    .dataframe thead th {\n",
       "        text-align: right;\n",
       "    }\n",
       "</style>\n",
       "<table border=\"1\" class=\"dataframe\">\n",
       "  <thead>\n",
       "    <tr style=\"text-align: right;\">\n",
       "      <th></th>\n",
       "      <th>id_x</th>\n",
       "      <th>company</th>\n",
       "      <th>departure_ts</th>\n",
       "      <th>arrival_ts</th>\n",
       "      <th>price_in_cents</th>\n",
       "      <th>o_city</th>\n",
       "      <th>d_city</th>\n",
       "      <th>duration_in_minutes</th>\n",
       "      <th>distance_category</th>\n",
       "      <th>transport_type_x</th>\n",
       "      <th>has_wifi</th>\n",
       "      <th>has_plug</th>\n",
       "      <th>has_adjustable_seats</th>\n",
       "      <th>has_bicycle</th>\n",
       "      <th>departure_month</th>\n",
       "      <th>departure_year</th>\n",
       "      <th>arrival_month_month</th>\n",
       "      <th>arrival_year</th>\n",
       "    </tr>\n",
       "  </thead>\n",
       "  <tbody>\n",
       "    <tr>\n",
       "      <th>0</th>\n",
       "      <td>6795025</td>\n",
       "      <td>8385</td>\n",
       "      <td>2017-10-13 14:00:00+00</td>\n",
       "      <td>2017-10-13 20:10:00+00</td>\n",
       "      <td>4550</td>\n",
       "      <td>611</td>\n",
       "      <td>542</td>\n",
       "      <td>370.0</td>\n",
       "      <td>200-800</td>\n",
       "      <td>carpooling</td>\n",
       "      <td>False</td>\n",
       "      <td>False</td>\n",
       "      <td>False</td>\n",
       "      <td>False</td>\n",
       "      <td>10</td>\n",
       "      <td>2017</td>\n",
       "      <td>10</td>\n",
       "      <td>2017</td>\n",
       "    </tr>\n",
       "    <tr>\n",
       "      <th>1</th>\n",
       "      <td>6795030</td>\n",
       "      <td>8385</td>\n",
       "      <td>2017-10-06 05:30:00+00</td>\n",
       "      <td>2017-10-06 08:30:00+00</td>\n",
       "      <td>1800</td>\n",
       "      <td>628</td>\n",
       "      <td>453</td>\n",
       "      <td>180.0</td>\n",
       "      <td>200-800</td>\n",
       "      <td>carpooling</td>\n",
       "      <td>False</td>\n",
       "      <td>False</td>\n",
       "      <td>False</td>\n",
       "      <td>False</td>\n",
       "      <td>10</td>\n",
       "      <td>2017</td>\n",
       "      <td>10</td>\n",
       "      <td>2017</td>\n",
       "    </tr>\n",
       "    <tr>\n",
       "      <th>2</th>\n",
       "      <td>6795031</td>\n",
       "      <td>8385</td>\n",
       "      <td>2017-10-06 07:00:42+00</td>\n",
       "      <td>2017-10-06 09:30:42+00</td>\n",
       "      <td>2150</td>\n",
       "      <td>628</td>\n",
       "      <td>453</td>\n",
       "      <td>150.0</td>\n",
       "      <td>200-800</td>\n",
       "      <td>carpooling</td>\n",
       "      <td>False</td>\n",
       "      <td>False</td>\n",
       "      <td>False</td>\n",
       "      <td>False</td>\n",
       "      <td>10</td>\n",
       "      <td>2017</td>\n",
       "      <td>10</td>\n",
       "      <td>2017</td>\n",
       "    </tr>\n",
       "    <tr>\n",
       "      <th>3</th>\n",
       "      <td>6795032</td>\n",
       "      <td>8385</td>\n",
       "      <td>2017-10-06 07:10:00+00</td>\n",
       "      <td>2017-10-06 09:40:00+00</td>\n",
       "      <td>1700</td>\n",
       "      <td>628</td>\n",
       "      <td>453</td>\n",
       "      <td>150.0</td>\n",
       "      <td>200-800</td>\n",
       "      <td>carpooling</td>\n",
       "      <td>False</td>\n",
       "      <td>False</td>\n",
       "      <td>False</td>\n",
       "      <td>False</td>\n",
       "      <td>10</td>\n",
       "      <td>2017</td>\n",
       "      <td>10</td>\n",
       "      <td>2017</td>\n",
       "    </tr>\n",
       "    <tr>\n",
       "      <th>4</th>\n",
       "      <td>6795033</td>\n",
       "      <td>8385</td>\n",
       "      <td>2017-10-06 10:00:00+00</td>\n",
       "      <td>2017-10-06 12:50:00+00</td>\n",
       "      <td>1700</td>\n",
       "      <td>628</td>\n",
       "      <td>453</td>\n",
       "      <td>170.0</td>\n",
       "      <td>200-800</td>\n",
       "      <td>carpooling</td>\n",
       "      <td>False</td>\n",
       "      <td>False</td>\n",
       "      <td>False</td>\n",
       "      <td>False</td>\n",
       "      <td>10</td>\n",
       "      <td>2017</td>\n",
       "      <td>10</td>\n",
       "      <td>2017</td>\n",
       "    </tr>\n",
       "  </tbody>\n",
       "</table>\n",
       "</div>"
      ],
      "text/plain": [
       "      id_x  company            departure_ts              arrival_ts  \\\n",
       "0  6795025     8385  2017-10-13 14:00:00+00  2017-10-13 20:10:00+00   \n",
       "1  6795030     8385  2017-10-06 05:30:00+00  2017-10-06 08:30:00+00   \n",
       "2  6795031     8385  2017-10-06 07:00:42+00  2017-10-06 09:30:42+00   \n",
       "3  6795032     8385  2017-10-06 07:10:00+00  2017-10-06 09:40:00+00   \n",
       "4  6795033     8385  2017-10-06 10:00:00+00  2017-10-06 12:50:00+00   \n",
       "\n",
       "   price_in_cents  o_city  d_city  duration_in_minutes distance_category  \\\n",
       "0            4550     611     542                370.0           200-800   \n",
       "1            1800     628     453                180.0           200-800   \n",
       "2            2150     628     453                150.0           200-800   \n",
       "3            1700     628     453                150.0           200-800   \n",
       "4            1700     628     453                170.0           200-800   \n",
       "\n",
       "  transport_type_x has_wifi has_plug has_adjustable_seats has_bicycle  \\\n",
       "0       carpooling    False    False                False       False   \n",
       "1       carpooling    False    False                False       False   \n",
       "2       carpooling    False    False                False       False   \n",
       "3       carpooling    False    False                False       False   \n",
       "4       carpooling    False    False                False       False   \n",
       "\n",
       "   departure_month  departure_year  arrival_month_month  arrival_year  \n",
       "0               10            2017                   10          2017  \n",
       "1               10            2017                   10          2017  \n",
       "2               10            2017                   10          2017  \n",
       "3               10            2017                   10          2017  \n",
       "4               10            2017                   10          2017  "
      ]
     },
     "metadata": {},
     "execution_count": 54
    }
   ],
   "metadata": {
    "ExecuteTime": {
     "end_time": "2021-09-26T21:39:53.091049Z",
     "start_time": "2021-09-26T21:39:53.062050Z"
    }
   }
  },
  {
   "cell_type": "code",
   "execution_count": 55,
   "source": [
    "def origin_city(row):\n",
    "    return cities[cities['id']==row['o_city']].unique_name.values[0]"
   ],
   "outputs": [],
   "metadata": {
    "ExecuteTime": {
     "end_time": "2021-09-26T21:39:53.218048Z",
     "start_time": "2021-09-26T21:39:53.093051Z"
    }
   }
  },
  {
   "cell_type": "code",
   "execution_count": 56,
   "source": [
    "predictions_table['origin_city'] = predictions_table.apply(origin_city, axis=1)"
   ],
   "outputs": [],
   "metadata": {
    "ExecuteTime": {
     "end_time": "2021-09-26T21:40:30.289047Z",
     "start_time": "2021-09-26T21:39:53.221052Z"
    }
   }
  },
  {
   "cell_type": "code",
   "execution_count": 57,
   "source": [
    "def destination_city(row):\n",
    "    return cities[cities['id']==row['d_city']].unique_name.values[0]"
   ],
   "outputs": [],
   "metadata": {
    "ExecuteTime": {
     "end_time": "2021-09-26T21:40:30.305047Z",
     "start_time": "2021-09-26T21:40:30.292051Z"
    }
   }
  },
  {
   "cell_type": "code",
   "execution_count": 58,
   "source": [
    "predictions_table['destination_city'] = predictions_table.apply(destination_city, axis=1)"
   ],
   "outputs": [],
   "metadata": {
    "ExecuteTime": {
     "end_time": "2021-09-26T21:41:10.231047Z",
     "start_time": "2021-09-26T21:40:30.309052Z"
    }
   }
  },
  {
   "cell_type": "code",
   "execution_count": 59,
   "source": [
    "predictions_table.head()"
   ],
   "outputs": [
    {
     "output_type": "execute_result",
     "data": {
      "text/html": [
       "<div>\n",
       "<style scoped>\n",
       "    .dataframe tbody tr th:only-of-type {\n",
       "        vertical-align: middle;\n",
       "    }\n",
       "\n",
       "    .dataframe tbody tr th {\n",
       "        vertical-align: top;\n",
       "    }\n",
       "\n",
       "    .dataframe thead th {\n",
       "        text-align: right;\n",
       "    }\n",
       "</style>\n",
       "<table border=\"1\" class=\"dataframe\">\n",
       "  <thead>\n",
       "    <tr style=\"text-align: right;\">\n",
       "      <th></th>\n",
       "      <th>id_x</th>\n",
       "      <th>company</th>\n",
       "      <th>departure_ts</th>\n",
       "      <th>arrival_ts</th>\n",
       "      <th>price_in_cents</th>\n",
       "      <th>o_city</th>\n",
       "      <th>d_city</th>\n",
       "      <th>duration_in_minutes</th>\n",
       "      <th>distance_category</th>\n",
       "      <th>transport_type_x</th>\n",
       "      <th>has_wifi</th>\n",
       "      <th>has_plug</th>\n",
       "      <th>has_adjustable_seats</th>\n",
       "      <th>has_bicycle</th>\n",
       "      <th>departure_month</th>\n",
       "      <th>departure_year</th>\n",
       "      <th>arrival_month_month</th>\n",
       "      <th>arrival_year</th>\n",
       "      <th>origin_city</th>\n",
       "      <th>destination_city</th>\n",
       "    </tr>\n",
       "  </thead>\n",
       "  <tbody>\n",
       "    <tr>\n",
       "      <th>0</th>\n",
       "      <td>6795025</td>\n",
       "      <td>8385</td>\n",
       "      <td>2017-10-13 14:00:00+00</td>\n",
       "      <td>2017-10-13 20:10:00+00</td>\n",
       "      <td>4550</td>\n",
       "      <td>611</td>\n",
       "      <td>542</td>\n",
       "      <td>370.0</td>\n",
       "      <td>200-800</td>\n",
       "      <td>carpooling</td>\n",
       "      <td>False</td>\n",
       "      <td>False</td>\n",
       "      <td>False</td>\n",
       "      <td>False</td>\n",
       "      <td>10</td>\n",
       "      <td>2017</td>\n",
       "      <td>10</td>\n",
       "      <td>2017</td>\n",
       "      <td>orleans</td>\n",
       "      <td>montpellier</td>\n",
       "    </tr>\n",
       "    <tr>\n",
       "      <th>1</th>\n",
       "      <td>6795030</td>\n",
       "      <td>8385</td>\n",
       "      <td>2017-10-06 05:30:00+00</td>\n",
       "      <td>2017-10-06 08:30:00+00</td>\n",
       "      <td>1800</td>\n",
       "      <td>628</td>\n",
       "      <td>453</td>\n",
       "      <td>180.0</td>\n",
       "      <td>200-800</td>\n",
       "      <td>carpooling</td>\n",
       "      <td>False</td>\n",
       "      <td>False</td>\n",
       "      <td>False</td>\n",
       "      <td>False</td>\n",
       "      <td>10</td>\n",
       "      <td>2017</td>\n",
       "      <td>10</td>\n",
       "      <td>2017</td>\n",
       "      <td>paris</td>\n",
       "      <td>lille</td>\n",
       "    </tr>\n",
       "    <tr>\n",
       "      <th>2</th>\n",
       "      <td>6795031</td>\n",
       "      <td>8385</td>\n",
       "      <td>2017-10-06 07:00:42+00</td>\n",
       "      <td>2017-10-06 09:30:42+00</td>\n",
       "      <td>2150</td>\n",
       "      <td>628</td>\n",
       "      <td>453</td>\n",
       "      <td>150.0</td>\n",
       "      <td>200-800</td>\n",
       "      <td>carpooling</td>\n",
       "      <td>False</td>\n",
       "      <td>False</td>\n",
       "      <td>False</td>\n",
       "      <td>False</td>\n",
       "      <td>10</td>\n",
       "      <td>2017</td>\n",
       "      <td>10</td>\n",
       "      <td>2017</td>\n",
       "      <td>paris</td>\n",
       "      <td>lille</td>\n",
       "    </tr>\n",
       "    <tr>\n",
       "      <th>3</th>\n",
       "      <td>6795032</td>\n",
       "      <td>8385</td>\n",
       "      <td>2017-10-06 07:10:00+00</td>\n",
       "      <td>2017-10-06 09:40:00+00</td>\n",
       "      <td>1700</td>\n",
       "      <td>628</td>\n",
       "      <td>453</td>\n",
       "      <td>150.0</td>\n",
       "      <td>200-800</td>\n",
       "      <td>carpooling</td>\n",
       "      <td>False</td>\n",
       "      <td>False</td>\n",
       "      <td>False</td>\n",
       "      <td>False</td>\n",
       "      <td>10</td>\n",
       "      <td>2017</td>\n",
       "      <td>10</td>\n",
       "      <td>2017</td>\n",
       "      <td>paris</td>\n",
       "      <td>lille</td>\n",
       "    </tr>\n",
       "    <tr>\n",
       "      <th>4</th>\n",
       "      <td>6795033</td>\n",
       "      <td>8385</td>\n",
       "      <td>2017-10-06 10:00:00+00</td>\n",
       "      <td>2017-10-06 12:50:00+00</td>\n",
       "      <td>1700</td>\n",
       "      <td>628</td>\n",
       "      <td>453</td>\n",
       "      <td>170.0</td>\n",
       "      <td>200-800</td>\n",
       "      <td>carpooling</td>\n",
       "      <td>False</td>\n",
       "      <td>False</td>\n",
       "      <td>False</td>\n",
       "      <td>False</td>\n",
       "      <td>10</td>\n",
       "      <td>2017</td>\n",
       "      <td>10</td>\n",
       "      <td>2017</td>\n",
       "      <td>paris</td>\n",
       "      <td>lille</td>\n",
       "    </tr>\n",
       "  </tbody>\n",
       "</table>\n",
       "</div>"
      ],
      "text/plain": [
       "      id_x  company            departure_ts              arrival_ts  \\\n",
       "0  6795025     8385  2017-10-13 14:00:00+00  2017-10-13 20:10:00+00   \n",
       "1  6795030     8385  2017-10-06 05:30:00+00  2017-10-06 08:30:00+00   \n",
       "2  6795031     8385  2017-10-06 07:00:42+00  2017-10-06 09:30:42+00   \n",
       "3  6795032     8385  2017-10-06 07:10:00+00  2017-10-06 09:40:00+00   \n",
       "4  6795033     8385  2017-10-06 10:00:00+00  2017-10-06 12:50:00+00   \n",
       "\n",
       "   price_in_cents  o_city  d_city  duration_in_minutes distance_category  \\\n",
       "0            4550     611     542                370.0           200-800   \n",
       "1            1800     628     453                180.0           200-800   \n",
       "2            2150     628     453                150.0           200-800   \n",
       "3            1700     628     453                150.0           200-800   \n",
       "4            1700     628     453                170.0           200-800   \n",
       "\n",
       "  transport_type_x has_wifi has_plug has_adjustable_seats has_bicycle  \\\n",
       "0       carpooling    False    False                False       False   \n",
       "1       carpooling    False    False                False       False   \n",
       "2       carpooling    False    False                False       False   \n",
       "3       carpooling    False    False                False       False   \n",
       "4       carpooling    False    False                False       False   \n",
       "\n",
       "   departure_month  departure_year  arrival_month_month  arrival_year  \\\n",
       "0               10            2017                   10          2017   \n",
       "1               10            2017                   10          2017   \n",
       "2               10            2017                   10          2017   \n",
       "3               10            2017                   10          2017   \n",
       "4               10            2017                   10          2017   \n",
       "\n",
       "  origin_city destination_city  \n",
       "0     orleans      montpellier  \n",
       "1       paris            lille  \n",
       "2       paris            lille  \n",
       "3       paris            lille  \n",
       "4       paris            lille  "
      ]
     },
     "metadata": {},
     "execution_count": 59
    }
   ],
   "metadata": {
    "ExecuteTime": {
     "end_time": "2021-09-26T21:41:10.277048Z",
     "start_time": "2021-09-26T21:41:10.235052Z"
    }
   }
  },
  {
   "cell_type": "code",
   "execution_count": 60,
   "source": [
    "predictions_table.drop(['departure_ts','arrival_ts','o_city','d_city'], axis=1, inplace =True)"
   ],
   "outputs": [],
   "metadata": {
    "ExecuteTime": {
     "end_time": "2021-09-26T21:41:11.433047Z",
     "start_time": "2021-09-26T21:41:10.280050Z"
    }
   }
  },
  {
   "cell_type": "code",
   "execution_count": 61,
   "source": [
    "predictions_table.info()"
   ],
   "outputs": [
    {
     "output_type": "stream",
     "name": "stdout",
     "text": [
      "<class 'pandas.core.frame.DataFrame'>\n",
      "Int64Index: 74168 entries, 0 to 74167\n",
      "Data columns (total 16 columns):\n",
      " #   Column                Non-Null Count  Dtype  \n",
      "---  ------                --------------  -----  \n",
      " 0   id_x                  74168 non-null  int64  \n",
      " 1   company               74168 non-null  int64  \n",
      " 2   price_in_cents        74168 non-null  int64  \n",
      " 3   duration_in_minutes   74168 non-null  float64\n",
      " 4   distance_category     74168 non-null  object \n",
      " 5   transport_type_x      74168 non-null  object \n",
      " 6   has_wifi              74168 non-null  object \n",
      " 7   has_plug              74168 non-null  object \n",
      " 8   has_adjustable_seats  74168 non-null  object \n",
      " 9   has_bicycle           74168 non-null  object \n",
      " 10  departure_month       74168 non-null  int64  \n",
      " 11  departure_year        74168 non-null  int64  \n",
      " 12  arrival_month_month   74168 non-null  int64  \n",
      " 13  arrival_year          74168 non-null  int64  \n",
      " 14  origin_city           74168 non-null  object \n",
      " 15  destination_city      74168 non-null  object \n",
      "dtypes: float64(1), int64(7), object(8)\n",
      "memory usage: 9.6+ MB\n"
     ]
    }
   ],
   "metadata": {
    "ExecuteTime": {
     "end_time": "2021-09-26T21:41:11.605052Z",
     "start_time": "2021-09-26T21:41:11.436054Z"
    }
   }
  },
  {
   "cell_type": "code",
   "execution_count": 62,
   "source": [
    "predictions_table[\"has_wifi\"] = predictions_table[\"has_wifi\"].astype(int)\r\n",
    "predictions_table[\"has_plug\"] = predictions_table[\"has_plug\"].astype(int)\r\n",
    "predictions_table[\"has_adjustable_seats\"] = predictions_table[\"has_adjustable_seats\"].astype(int)\r\n",
    "predictions_table[\"has_bicycle\"] = predictions_table[\"has_bicycle\"].astype(int)"
   ],
   "outputs": [],
   "metadata": {
    "ExecuteTime": {
     "end_time": "2021-09-26T21:41:11.890047Z",
     "start_time": "2021-09-26T21:41:11.608052Z"
    }
   }
  },
  {
   "cell_type": "code",
   "execution_count": 63,
   "source": [
    "distance_category= pd.get_dummies(predictions_table['distance_category'], prefix = 'distance_category')\r\n",
    "transport_type= pd.get_dummies(predictions_table['transport_type_x'], prefix = 'transport_type')\r\n",
    "origin=pd.get_dummies(predictions_table['origin_city'], prefix = 'origin')\r\n",
    "destination=pd.get_dummies(predictions_table['destination_city'], prefix = 'destination')\r\n"
   ],
   "outputs": [],
   "metadata": {
    "ExecuteTime": {
     "end_time": "2021-09-26T21:41:12.333047Z",
     "start_time": "2021-09-26T21:41:11.892051Z"
    }
   }
  },
  {
   "cell_type": "code",
   "execution_count": 64,
   "source": [
    "predictions_table= pd.concat([predictions_table,distance_category,transport_type,origin,destination], axis=1)\r\n",
    "predictions_table.head()"
   ],
   "outputs": [
    {
     "output_type": "execute_result",
     "data": {
      "text/html": [
       "<div>\n",
       "<style scoped>\n",
       "    .dataframe tbody tr th:only-of-type {\n",
       "        vertical-align: middle;\n",
       "    }\n",
       "\n",
       "    .dataframe tbody tr th {\n",
       "        vertical-align: top;\n",
       "    }\n",
       "\n",
       "    .dataframe thead th {\n",
       "        text-align: right;\n",
       "    }\n",
       "</style>\n",
       "<table border=\"1\" class=\"dataframe\">\n",
       "  <thead>\n",
       "    <tr style=\"text-align: right;\">\n",
       "      <th></th>\n",
       "      <th>id_x</th>\n",
       "      <th>company</th>\n",
       "      <th>price_in_cents</th>\n",
       "      <th>duration_in_minutes</th>\n",
       "      <th>distance_category</th>\n",
       "      <th>transport_type_x</th>\n",
       "      <th>has_wifi</th>\n",
       "      <th>has_plug</th>\n",
       "      <th>has_adjustable_seats</th>\n",
       "      <th>has_bicycle</th>\n",
       "      <th>...</th>\n",
       "      <th>destination_vicenza</th>\n",
       "      <th>destination_vichy</th>\n",
       "      <th>destination_vienna</th>\n",
       "      <th>destination_vienne</th>\n",
       "      <th>destination_villefranche-sur-cher</th>\n",
       "      <th>destination_vitre</th>\n",
       "      <th>destination_voiron</th>\n",
       "      <th>destination_warsaw</th>\n",
       "      <th>destination_zurich</th>\n",
       "      <th>destination_сердика</th>\n",
       "    </tr>\n",
       "  </thead>\n",
       "  <tbody>\n",
       "    <tr>\n",
       "      <th>0</th>\n",
       "      <td>6795025</td>\n",
       "      <td>8385</td>\n",
       "      <td>4550</td>\n",
       "      <td>370.0</td>\n",
       "      <td>200-800</td>\n",
       "      <td>carpooling</td>\n",
       "      <td>0</td>\n",
       "      <td>0</td>\n",
       "      <td>0</td>\n",
       "      <td>0</td>\n",
       "      <td>...</td>\n",
       "      <td>0</td>\n",
       "      <td>0</td>\n",
       "      <td>0</td>\n",
       "      <td>0</td>\n",
       "      <td>0</td>\n",
       "      <td>0</td>\n",
       "      <td>0</td>\n",
       "      <td>0</td>\n",
       "      <td>0</td>\n",
       "      <td>0</td>\n",
       "    </tr>\n",
       "    <tr>\n",
       "      <th>1</th>\n",
       "      <td>6795030</td>\n",
       "      <td>8385</td>\n",
       "      <td>1800</td>\n",
       "      <td>180.0</td>\n",
       "      <td>200-800</td>\n",
       "      <td>carpooling</td>\n",
       "      <td>0</td>\n",
       "      <td>0</td>\n",
       "      <td>0</td>\n",
       "      <td>0</td>\n",
       "      <td>...</td>\n",
       "      <td>0</td>\n",
       "      <td>0</td>\n",
       "      <td>0</td>\n",
       "      <td>0</td>\n",
       "      <td>0</td>\n",
       "      <td>0</td>\n",
       "      <td>0</td>\n",
       "      <td>0</td>\n",
       "      <td>0</td>\n",
       "      <td>0</td>\n",
       "    </tr>\n",
       "    <tr>\n",
       "      <th>2</th>\n",
       "      <td>6795031</td>\n",
       "      <td>8385</td>\n",
       "      <td>2150</td>\n",
       "      <td>150.0</td>\n",
       "      <td>200-800</td>\n",
       "      <td>carpooling</td>\n",
       "      <td>0</td>\n",
       "      <td>0</td>\n",
       "      <td>0</td>\n",
       "      <td>0</td>\n",
       "      <td>...</td>\n",
       "      <td>0</td>\n",
       "      <td>0</td>\n",
       "      <td>0</td>\n",
       "      <td>0</td>\n",
       "      <td>0</td>\n",
       "      <td>0</td>\n",
       "      <td>0</td>\n",
       "      <td>0</td>\n",
       "      <td>0</td>\n",
       "      <td>0</td>\n",
       "    </tr>\n",
       "    <tr>\n",
       "      <th>3</th>\n",
       "      <td>6795032</td>\n",
       "      <td>8385</td>\n",
       "      <td>1700</td>\n",
       "      <td>150.0</td>\n",
       "      <td>200-800</td>\n",
       "      <td>carpooling</td>\n",
       "      <td>0</td>\n",
       "      <td>0</td>\n",
       "      <td>0</td>\n",
       "      <td>0</td>\n",
       "      <td>...</td>\n",
       "      <td>0</td>\n",
       "      <td>0</td>\n",
       "      <td>0</td>\n",
       "      <td>0</td>\n",
       "      <td>0</td>\n",
       "      <td>0</td>\n",
       "      <td>0</td>\n",
       "      <td>0</td>\n",
       "      <td>0</td>\n",
       "      <td>0</td>\n",
       "    </tr>\n",
       "    <tr>\n",
       "      <th>4</th>\n",
       "      <td>6795033</td>\n",
       "      <td>8385</td>\n",
       "      <td>1700</td>\n",
       "      <td>170.0</td>\n",
       "      <td>200-800</td>\n",
       "      <td>carpooling</td>\n",
       "      <td>0</td>\n",
       "      <td>0</td>\n",
       "      <td>0</td>\n",
       "      <td>0</td>\n",
       "      <td>...</td>\n",
       "      <td>0</td>\n",
       "      <td>0</td>\n",
       "      <td>0</td>\n",
       "      <td>0</td>\n",
       "      <td>0</td>\n",
       "      <td>0</td>\n",
       "      <td>0</td>\n",
       "      <td>0</td>\n",
       "      <td>0</td>\n",
       "      <td>0</td>\n",
       "    </tr>\n",
       "  </tbody>\n",
       "</table>\n",
       "<p>5 rows × 660 columns</p>\n",
       "</div>"
      ],
      "text/plain": [
       "      id_x  company  price_in_cents  duration_in_minutes distance_category  \\\n",
       "0  6795025     8385            4550                370.0           200-800   \n",
       "1  6795030     8385            1800                180.0           200-800   \n",
       "2  6795031     8385            2150                150.0           200-800   \n",
       "3  6795032     8385            1700                150.0           200-800   \n",
       "4  6795033     8385            1700                170.0           200-800   \n",
       "\n",
       "  transport_type_x  has_wifi  has_plug  has_adjustable_seats  has_bicycle  \\\n",
       "0       carpooling         0         0                     0            0   \n",
       "1       carpooling         0         0                     0            0   \n",
       "2       carpooling         0         0                     0            0   \n",
       "3       carpooling         0         0                     0            0   \n",
       "4       carpooling         0         0                     0            0   \n",
       "\n",
       "   ...  destination_vicenza  destination_vichy  destination_vienna  \\\n",
       "0  ...                    0                  0                   0   \n",
       "1  ...                    0                  0                   0   \n",
       "2  ...                    0                  0                   0   \n",
       "3  ...                    0                  0                   0   \n",
       "4  ...                    0                  0                   0   \n",
       "\n",
       "   destination_vienne destination_villefranche-sur-cher destination_vitre  \\\n",
       "0                   0                                 0                 0   \n",
       "1                   0                                 0                 0   \n",
       "2                   0                                 0                 0   \n",
       "3                   0                                 0                 0   \n",
       "4                   0                                 0                 0   \n",
       "\n",
       "   destination_voiron  destination_warsaw  destination_zurich  \\\n",
       "0                   0                   0                   0   \n",
       "1                   0                   0                   0   \n",
       "2                   0                   0                   0   \n",
       "3                   0                   0                   0   \n",
       "4                   0                   0                   0   \n",
       "\n",
       "   destination_сердика  \n",
       "0                    0  \n",
       "1                    0  \n",
       "2                    0  \n",
       "3                    0  \n",
       "4                    0  \n",
       "\n",
       "[5 rows x 660 columns]"
      ]
     },
     "metadata": {},
     "execution_count": 64
    }
   ],
   "metadata": {
    "ExecuteTime": {
     "end_time": "2021-09-26T21:41:12.413048Z",
     "start_time": "2021-09-26T21:41:12.336056Z"
    }
   }
  },
  {
   "cell_type": "code",
   "execution_count": 65,
   "source": [
    "predictions_table.drop(['distance_category','transport_type_x','origin_city','destination_city'], axis=1,inplace=True)"
   ],
   "outputs": [],
   "metadata": {
    "ExecuteTime": {
     "end_time": "2021-09-26T21:41:12.728049Z",
     "start_time": "2021-09-26T21:41:12.416050Z"
    }
   }
  },
  {
   "cell_type": "code",
   "execution_count": 66,
   "source": [
    "def get_company_name(row):\r\n",
    "    return providers[providers['id']==int(row['company'])].fullname.values[0]"
   ],
   "outputs": [],
   "metadata": {
    "ExecuteTime": {
     "end_time": "2021-09-26T21:41:12.744050Z",
     "start_time": "2021-09-26T21:41:12.730050Z"
    }
   }
  },
  {
   "cell_type": "code",
   "execution_count": 67,
   "source": [
    "predictions_table.info()"
   ],
   "outputs": [
    {
     "output_type": "stream",
     "name": "stdout",
     "text": [
      "<class 'pandas.core.frame.DataFrame'>\n",
      "Int64Index: 74168 entries, 0 to 74167\n",
      "Columns: 656 entries, id_x to destination_сердика\n",
      "dtypes: float64(1), int32(4), int64(7), uint8(644)\n",
      "memory usage: 51.8 MB\n"
     ]
    }
   ],
   "metadata": {
    "ExecuteTime": {
     "end_time": "2021-09-26T21:41:12.935050Z",
     "start_time": "2021-09-26T21:41:12.748053Z"
    }
   }
  },
  {
   "cell_type": "code",
   "execution_count": 68,
   "source": [
    "predictions_table['company_name'] = predictions_table.apply(get_company_name, axis=1)"
   ],
   "outputs": [],
   "metadata": {
    "ExecuteTime": {
     "end_time": "2021-09-26T21:41:48.862049Z",
     "start_time": "2021-09-26T21:41:12.939052Z"
    }
   }
  },
  {
   "cell_type": "code",
   "execution_count": 69,
   "source": [
    "company_name=pd.get_dummies(predictions_table['company_name'], prefix = 'company')\r\n"
   ],
   "outputs": [],
   "metadata": {
    "ExecuteTime": {
     "end_time": "2021-09-26T21:41:48.909047Z",
     "start_time": "2021-09-26T21:41:48.866050Z"
    }
   }
  },
  {
   "cell_type": "code",
   "execution_count": 70,
   "source": [
    "predictions_table= pd.concat([predictions_table,company_name], axis=1)\r\n"
   ],
   "outputs": [],
   "metadata": {
    "ExecuteTime": {
     "end_time": "2021-09-26T21:41:49.196048Z",
     "start_time": "2021-09-26T21:41:48.913052Z"
    }
   }
  },
  {
   "cell_type": "code",
   "execution_count": 71,
   "source": [
    "predictions_table.head()"
   ],
   "outputs": [
    {
     "output_type": "execute_result",
     "data": {
      "text/html": [
       "<div>\n",
       "<style scoped>\n",
       "    .dataframe tbody tr th:only-of-type {\n",
       "        vertical-align: middle;\n",
       "    }\n",
       "\n",
       "    .dataframe tbody tr th {\n",
       "        vertical-align: top;\n",
       "    }\n",
       "\n",
       "    .dataframe thead th {\n",
       "        text-align: right;\n",
       "    }\n",
       "</style>\n",
       "<table border=\"1\" class=\"dataframe\">\n",
       "  <thead>\n",
       "    <tr style=\"text-align: right;\">\n",
       "      <th></th>\n",
       "      <th>id_x</th>\n",
       "      <th>company</th>\n",
       "      <th>price_in_cents</th>\n",
       "      <th>duration_in_minutes</th>\n",
       "      <th>has_wifi</th>\n",
       "      <th>has_plug</th>\n",
       "      <th>has_adjustable_seats</th>\n",
       "      <th>has_bicycle</th>\n",
       "      <th>departure_month</th>\n",
       "      <th>departure_year</th>\n",
       "      <th>...</th>\n",
       "      <th>company_Isilines</th>\n",
       "      <th>company_National Express</th>\n",
       "      <th>company_Navette Keolis</th>\n",
       "      <th>company_Navette de Vatry</th>\n",
       "      <th>company_Ouibus</th>\n",
       "      <th>company_Student Agency</th>\n",
       "      <th>company_TER</th>\n",
       "      <th>company_TGV</th>\n",
       "      <th>company_Thalys</th>\n",
       "      <th>company_Vatry</th>\n",
       "    </tr>\n",
       "  </thead>\n",
       "  <tbody>\n",
       "    <tr>\n",
       "      <th>0</th>\n",
       "      <td>6795025</td>\n",
       "      <td>8385</td>\n",
       "      <td>4550</td>\n",
       "      <td>370.0</td>\n",
       "      <td>0</td>\n",
       "      <td>0</td>\n",
       "      <td>0</td>\n",
       "      <td>0</td>\n",
       "      <td>10</td>\n",
       "      <td>2017</td>\n",
       "      <td>...</td>\n",
       "      <td>0</td>\n",
       "      <td>0</td>\n",
       "      <td>0</td>\n",
       "      <td>0</td>\n",
       "      <td>0</td>\n",
       "      <td>0</td>\n",
       "      <td>0</td>\n",
       "      <td>0</td>\n",
       "      <td>0</td>\n",
       "      <td>0</td>\n",
       "    </tr>\n",
       "    <tr>\n",
       "      <th>1</th>\n",
       "      <td>6795030</td>\n",
       "      <td>8385</td>\n",
       "      <td>1800</td>\n",
       "      <td>180.0</td>\n",
       "      <td>0</td>\n",
       "      <td>0</td>\n",
       "      <td>0</td>\n",
       "      <td>0</td>\n",
       "      <td>10</td>\n",
       "      <td>2017</td>\n",
       "      <td>...</td>\n",
       "      <td>0</td>\n",
       "      <td>0</td>\n",
       "      <td>0</td>\n",
       "      <td>0</td>\n",
       "      <td>0</td>\n",
       "      <td>0</td>\n",
       "      <td>0</td>\n",
       "      <td>0</td>\n",
       "      <td>0</td>\n",
       "      <td>0</td>\n",
       "    </tr>\n",
       "    <tr>\n",
       "      <th>2</th>\n",
       "      <td>6795031</td>\n",
       "      <td>8385</td>\n",
       "      <td>2150</td>\n",
       "      <td>150.0</td>\n",
       "      <td>0</td>\n",
       "      <td>0</td>\n",
       "      <td>0</td>\n",
       "      <td>0</td>\n",
       "      <td>10</td>\n",
       "      <td>2017</td>\n",
       "      <td>...</td>\n",
       "      <td>0</td>\n",
       "      <td>0</td>\n",
       "      <td>0</td>\n",
       "      <td>0</td>\n",
       "      <td>0</td>\n",
       "      <td>0</td>\n",
       "      <td>0</td>\n",
       "      <td>0</td>\n",
       "      <td>0</td>\n",
       "      <td>0</td>\n",
       "    </tr>\n",
       "    <tr>\n",
       "      <th>3</th>\n",
       "      <td>6795032</td>\n",
       "      <td>8385</td>\n",
       "      <td>1700</td>\n",
       "      <td>150.0</td>\n",
       "      <td>0</td>\n",
       "      <td>0</td>\n",
       "      <td>0</td>\n",
       "      <td>0</td>\n",
       "      <td>10</td>\n",
       "      <td>2017</td>\n",
       "      <td>...</td>\n",
       "      <td>0</td>\n",
       "      <td>0</td>\n",
       "      <td>0</td>\n",
       "      <td>0</td>\n",
       "      <td>0</td>\n",
       "      <td>0</td>\n",
       "      <td>0</td>\n",
       "      <td>0</td>\n",
       "      <td>0</td>\n",
       "      <td>0</td>\n",
       "    </tr>\n",
       "    <tr>\n",
       "      <th>4</th>\n",
       "      <td>6795033</td>\n",
       "      <td>8385</td>\n",
       "      <td>1700</td>\n",
       "      <td>170.0</td>\n",
       "      <td>0</td>\n",
       "      <td>0</td>\n",
       "      <td>0</td>\n",
       "      <td>0</td>\n",
       "      <td>10</td>\n",
       "      <td>2017</td>\n",
       "      <td>...</td>\n",
       "      <td>0</td>\n",
       "      <td>0</td>\n",
       "      <td>0</td>\n",
       "      <td>0</td>\n",
       "      <td>0</td>\n",
       "      <td>0</td>\n",
       "      <td>0</td>\n",
       "      <td>0</td>\n",
       "      <td>0</td>\n",
       "      <td>0</td>\n",
       "    </tr>\n",
       "  </tbody>\n",
       "</table>\n",
       "<p>5 rows × 677 columns</p>\n",
       "</div>"
      ],
      "text/plain": [
       "      id_x  company  price_in_cents  duration_in_minutes  has_wifi  has_plug  \\\n",
       "0  6795025     8385            4550                370.0         0         0   \n",
       "1  6795030     8385            1800                180.0         0         0   \n",
       "2  6795031     8385            2150                150.0         0         0   \n",
       "3  6795032     8385            1700                150.0         0         0   \n",
       "4  6795033     8385            1700                170.0         0         0   \n",
       "\n",
       "   has_adjustable_seats  has_bicycle  departure_month  departure_year  ...  \\\n",
       "0                     0            0               10            2017  ...   \n",
       "1                     0            0               10            2017  ...   \n",
       "2                     0            0               10            2017  ...   \n",
       "3                     0            0               10            2017  ...   \n",
       "4                     0            0               10            2017  ...   \n",
       "\n",
       "   company_Isilines  company_National Express  company_Navette Keolis  \\\n",
       "0                 0                         0                       0   \n",
       "1                 0                         0                       0   \n",
       "2                 0                         0                       0   \n",
       "3                 0                         0                       0   \n",
       "4                 0                         0                       0   \n",
       "\n",
       "   company_Navette de Vatry  company_Ouibus  company_Student Agency  \\\n",
       "0                         0               0                       0   \n",
       "1                         0               0                       0   \n",
       "2                         0               0                       0   \n",
       "3                         0               0                       0   \n",
       "4                         0               0                       0   \n",
       "\n",
       "   company_TER  company_TGV  company_Thalys  company_Vatry  \n",
       "0            0            0               0              0  \n",
       "1            0            0               0              0  \n",
       "2            0            0               0              0  \n",
       "3            0            0               0              0  \n",
       "4            0            0               0              0  \n",
       "\n",
       "[5 rows x 677 columns]"
      ]
     },
     "metadata": {},
     "execution_count": 71
    }
   ],
   "metadata": {
    "ExecuteTime": {
     "end_time": "2021-09-26T21:41:49.370048Z",
     "start_time": "2021-09-26T21:41:49.199050Z"
    }
   }
  },
  {
   "cell_type": "code",
   "execution_count": 72,
   "source": [
    "predictions_table.drop(['company','id_x','company_name'], axis=1, inplace=True)"
   ],
   "outputs": [],
   "metadata": {
    "ExecuteTime": {
     "end_time": "2021-09-26T21:41:49.642050Z",
     "start_time": "2021-09-26T21:41:49.374053Z"
    }
   }
  },
  {
   "cell_type": "code",
   "execution_count": 73,
   "source": [
    "predictions_table.head()"
   ],
   "outputs": [
    {
     "output_type": "execute_result",
     "data": {
      "text/html": [
       "<div>\n",
       "<style scoped>\n",
       "    .dataframe tbody tr th:only-of-type {\n",
       "        vertical-align: middle;\n",
       "    }\n",
       "\n",
       "    .dataframe tbody tr th {\n",
       "        vertical-align: top;\n",
       "    }\n",
       "\n",
       "    .dataframe thead th {\n",
       "        text-align: right;\n",
       "    }\n",
       "</style>\n",
       "<table border=\"1\" class=\"dataframe\">\n",
       "  <thead>\n",
       "    <tr style=\"text-align: right;\">\n",
       "      <th></th>\n",
       "      <th>price_in_cents</th>\n",
       "      <th>duration_in_minutes</th>\n",
       "      <th>has_wifi</th>\n",
       "      <th>has_plug</th>\n",
       "      <th>has_adjustable_seats</th>\n",
       "      <th>has_bicycle</th>\n",
       "      <th>departure_month</th>\n",
       "      <th>departure_year</th>\n",
       "      <th>arrival_month_month</th>\n",
       "      <th>arrival_year</th>\n",
       "      <th>...</th>\n",
       "      <th>company_Isilines</th>\n",
       "      <th>company_National Express</th>\n",
       "      <th>company_Navette Keolis</th>\n",
       "      <th>company_Navette de Vatry</th>\n",
       "      <th>company_Ouibus</th>\n",
       "      <th>company_Student Agency</th>\n",
       "      <th>company_TER</th>\n",
       "      <th>company_TGV</th>\n",
       "      <th>company_Thalys</th>\n",
       "      <th>company_Vatry</th>\n",
       "    </tr>\n",
       "  </thead>\n",
       "  <tbody>\n",
       "    <tr>\n",
       "      <th>0</th>\n",
       "      <td>4550</td>\n",
       "      <td>370.0</td>\n",
       "      <td>0</td>\n",
       "      <td>0</td>\n",
       "      <td>0</td>\n",
       "      <td>0</td>\n",
       "      <td>10</td>\n",
       "      <td>2017</td>\n",
       "      <td>10</td>\n",
       "      <td>2017</td>\n",
       "      <td>...</td>\n",
       "      <td>0</td>\n",
       "      <td>0</td>\n",
       "      <td>0</td>\n",
       "      <td>0</td>\n",
       "      <td>0</td>\n",
       "      <td>0</td>\n",
       "      <td>0</td>\n",
       "      <td>0</td>\n",
       "      <td>0</td>\n",
       "      <td>0</td>\n",
       "    </tr>\n",
       "    <tr>\n",
       "      <th>1</th>\n",
       "      <td>1800</td>\n",
       "      <td>180.0</td>\n",
       "      <td>0</td>\n",
       "      <td>0</td>\n",
       "      <td>0</td>\n",
       "      <td>0</td>\n",
       "      <td>10</td>\n",
       "      <td>2017</td>\n",
       "      <td>10</td>\n",
       "      <td>2017</td>\n",
       "      <td>...</td>\n",
       "      <td>0</td>\n",
       "      <td>0</td>\n",
       "      <td>0</td>\n",
       "      <td>0</td>\n",
       "      <td>0</td>\n",
       "      <td>0</td>\n",
       "      <td>0</td>\n",
       "      <td>0</td>\n",
       "      <td>0</td>\n",
       "      <td>0</td>\n",
       "    </tr>\n",
       "    <tr>\n",
       "      <th>2</th>\n",
       "      <td>2150</td>\n",
       "      <td>150.0</td>\n",
       "      <td>0</td>\n",
       "      <td>0</td>\n",
       "      <td>0</td>\n",
       "      <td>0</td>\n",
       "      <td>10</td>\n",
       "      <td>2017</td>\n",
       "      <td>10</td>\n",
       "      <td>2017</td>\n",
       "      <td>...</td>\n",
       "      <td>0</td>\n",
       "      <td>0</td>\n",
       "      <td>0</td>\n",
       "      <td>0</td>\n",
       "      <td>0</td>\n",
       "      <td>0</td>\n",
       "      <td>0</td>\n",
       "      <td>0</td>\n",
       "      <td>0</td>\n",
       "      <td>0</td>\n",
       "    </tr>\n",
       "    <tr>\n",
       "      <th>3</th>\n",
       "      <td>1700</td>\n",
       "      <td>150.0</td>\n",
       "      <td>0</td>\n",
       "      <td>0</td>\n",
       "      <td>0</td>\n",
       "      <td>0</td>\n",
       "      <td>10</td>\n",
       "      <td>2017</td>\n",
       "      <td>10</td>\n",
       "      <td>2017</td>\n",
       "      <td>...</td>\n",
       "      <td>0</td>\n",
       "      <td>0</td>\n",
       "      <td>0</td>\n",
       "      <td>0</td>\n",
       "      <td>0</td>\n",
       "      <td>0</td>\n",
       "      <td>0</td>\n",
       "      <td>0</td>\n",
       "      <td>0</td>\n",
       "      <td>0</td>\n",
       "    </tr>\n",
       "    <tr>\n",
       "      <th>4</th>\n",
       "      <td>1700</td>\n",
       "      <td>170.0</td>\n",
       "      <td>0</td>\n",
       "      <td>0</td>\n",
       "      <td>0</td>\n",
       "      <td>0</td>\n",
       "      <td>10</td>\n",
       "      <td>2017</td>\n",
       "      <td>10</td>\n",
       "      <td>2017</td>\n",
       "      <td>...</td>\n",
       "      <td>0</td>\n",
       "      <td>0</td>\n",
       "      <td>0</td>\n",
       "      <td>0</td>\n",
       "      <td>0</td>\n",
       "      <td>0</td>\n",
       "      <td>0</td>\n",
       "      <td>0</td>\n",
       "      <td>0</td>\n",
       "      <td>0</td>\n",
       "    </tr>\n",
       "  </tbody>\n",
       "</table>\n",
       "<p>5 rows × 674 columns</p>\n",
       "</div>"
      ],
      "text/plain": [
       "   price_in_cents  duration_in_minutes  has_wifi  has_plug  \\\n",
       "0            4550                370.0         0         0   \n",
       "1            1800                180.0         0         0   \n",
       "2            2150                150.0         0         0   \n",
       "3            1700                150.0         0         0   \n",
       "4            1700                170.0         0         0   \n",
       "\n",
       "   has_adjustable_seats  has_bicycle  departure_month  departure_year  \\\n",
       "0                     0            0               10            2017   \n",
       "1                     0            0               10            2017   \n",
       "2                     0            0               10            2017   \n",
       "3                     0            0               10            2017   \n",
       "4                     0            0               10            2017   \n",
       "\n",
       "   arrival_month_month  arrival_year  ...  company_Isilines  \\\n",
       "0                   10          2017  ...                 0   \n",
       "1                   10          2017  ...                 0   \n",
       "2                   10          2017  ...                 0   \n",
       "3                   10          2017  ...                 0   \n",
       "4                   10          2017  ...                 0   \n",
       "\n",
       "   company_National Express  company_Navette Keolis  company_Navette de Vatry  \\\n",
       "0                         0                       0                         0   \n",
       "1                         0                       0                         0   \n",
       "2                         0                       0                         0   \n",
       "3                         0                       0                         0   \n",
       "4                         0                       0                         0   \n",
       "\n",
       "   company_Ouibus  company_Student Agency  company_TER  company_TGV  \\\n",
       "0               0                       0            0            0   \n",
       "1               0                       0            0            0   \n",
       "2               0                       0            0            0   \n",
       "3               0                       0            0            0   \n",
       "4               0                       0            0            0   \n",
       "\n",
       "   company_Thalys  company_Vatry  \n",
       "0               0              0  \n",
       "1               0              0  \n",
       "2               0              0  \n",
       "3               0              0  \n",
       "4               0              0  \n",
       "\n",
       "[5 rows x 674 columns]"
      ]
     },
     "metadata": {},
     "execution_count": 73
    }
   ],
   "metadata": {
    "ExecuteTime": {
     "end_time": "2021-09-26T21:41:49.689049Z",
     "start_time": "2021-09-26T21:41:49.646051Z"
    }
   }
  },
  {
   "cell_type": "code",
   "execution_count": 74,
   "source": [
    "X = predictions_table.drop('price_in_cents', axis=1)\r\n",
    "y = predictions_table['price_in_cents']\r\n"
   ],
   "outputs": [],
   "metadata": {
    "ExecuteTime": {
     "end_time": "2021-09-26T21:41:49.849049Z",
     "start_time": "2021-09-26T21:41:49.691052Z"
    }
   }
  },
  {
   "cell_type": "code",
   "execution_count": 75,
   "source": [
    "model = DecisionTreeRegressor()"
   ],
   "outputs": [],
   "metadata": {
    "ExecuteTime": {
     "end_time": "2021-09-26T21:41:49.928049Z",
     "start_time": "2021-09-26T21:41:49.851051Z"
    }
   }
  },
  {
   "cell_type": "code",
   "execution_count": 76,
   "source": [
    "X_train, X_test, y_train, y_test = train_test_split(X, y, test_size=0.33, random_state=42)"
   ],
   "outputs": [],
   "metadata": {
    "ExecuteTime": {
     "end_time": "2021-09-26T21:41:50.405048Z",
     "start_time": "2021-09-26T21:41:49.943050Z"
    }
   }
  },
  {
   "cell_type": "code",
   "execution_count": 77,
   "source": [
    "model.fit(X_train,y_train)"
   ],
   "outputs": [
    {
     "output_type": "execute_result",
     "data": {
      "text/plain": [
       "DecisionTreeRegressor()"
      ]
     },
     "metadata": {},
     "execution_count": 77
    }
   ],
   "metadata": {
    "ExecuteTime": {
     "end_time": "2021-09-26T21:41:54.279047Z",
     "start_time": "2021-09-26T21:41:50.407049Z"
    }
   }
  },
  {
   "cell_type": "code",
   "execution_count": 79,
   "source": [
    "mse(y_test, model.predict(X_test))"
   ],
   "outputs": [
    {
     "output_type": "execute_result",
     "data": {
      "text/plain": [
       "1329149.7135263293"
      ]
     },
     "metadata": {},
     "execution_count": 79
    }
   ],
   "metadata": {
    "ExecuteTime": {
     "end_time": "2021-09-26T21:52:12.321688Z",
     "start_time": "2021-09-26T21:52:12.092689Z"
    }
   }
  },
  {
   "cell_type": "code",
   "execution_count": 81,
   "source": [
    "model.score(X_test, y_test)*100"
   ],
   "outputs": [
    {
     "output_type": "execute_result",
     "data": {
      "text/plain": [
       "90.71886445623728"
      ]
     },
     "metadata": {},
     "execution_count": 81
    }
   ],
   "metadata": {
    "ExecuteTime": {
     "end_time": "2021-09-26T21:57:34.354862Z",
     "start_time": "2021-09-26T21:57:34.155866Z"
    }
   }
  },
  {
   "cell_type": "markdown",
   "source": [
    "Le modèle est précis à 90 %"
   ],
   "metadata": {}
  }
 ],
 "metadata": {
  "colab": {
   "collapsed_sections": [],
   "name": "TicTacTripTest.ipynb",
   "provenance": []
  },
  "kernelspec": {
   "display_name": "Python 3 (ipykernel)",
   "language": "python",
   "name": "python3"
  },
  "language_info": {
   "codemirror_mode": {
    "name": "ipython",
    "version": 3
   },
   "file_extension": ".py",
   "mimetype": "text/x-python",
   "name": "python",
   "nbconvert_exporter": "python",
   "pygments_lexer": "ipython3",
   "version": "3.8.6"
  }
 },
 "nbformat": 4,
 "nbformat_minor": 1
}